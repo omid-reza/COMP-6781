{
  "cells": [
    {
      "cell_type": "markdown",
      "metadata": {
        "id": "B7rqxJ_b9-uD"
      },
      "source": [
        "## Assigment 2: Word2vec and CBOW ⚡\n"
      ]
    },
    {
      "cell_type": "markdown",
      "metadata": {
        "id": "tWpKZPpdZcV8"
      },
      "source": [
        "In this assignment, we will guide you through the process of implementing Continous Bag Of Words (CBOW) using PyTorch, providing step-by-step instructions, code snippets, and explanations to aid your understanding. By the end of this assignment, you will have a solid grasp of Word2Vec's mechanics and be equipped to apply this knowledge to a wide range of NLP tasks.\n",
        "\n",
        "Let's embark on this journey to unlock the power of word embeddings with Word2Vec and PyTorch!\n",
        "\n",
        "This [guide](https://pytorch.org/tutorials/beginner/basics/intro.html) might come in handy to understand how Pytorch works."
      ]
    },
    {
      "cell_type": "markdown",
      "metadata": {
        "id": "v-kso1_rb2SM"
      },
      "source": [
        "Let's start by installing the needed libraries"
      ]
    },
    {
      "cell_type": "code",
      "execution_count": 24,
      "metadata": {
        "ExecuteTime": {
          "end_time": "2024-10-24T21:21:33.140890Z",
          "start_time": "2024-10-24T21:21:31.178666Z"
        },
        "colab": {
          "base_uri": "https://localhost:8080/"
        },
        "collapsed": true,
        "id": "aCFYPXdv_qZr",
        "outputId": "1dc4a5a5-6e97-48f1-eed7-b4e0319df145"
      },
      "outputs": [
        {
          "output_type": "stream",
          "name": "stdout",
          "text": [
            "Requirement already satisfied: datasets in /usr/local/lib/python3.10/dist-packages (3.0.2)\n",
            "Requirement already satisfied: filelock in /usr/local/lib/python3.10/dist-packages (from datasets) (3.16.1)\n",
            "Requirement already satisfied: numpy>=1.17 in /usr/local/lib/python3.10/dist-packages (from datasets) (1.26.4)\n",
            "Requirement already satisfied: pyarrow>=15.0.0 in /usr/local/lib/python3.10/dist-packages (from datasets) (16.1.0)\n",
            "Requirement already satisfied: dill<0.3.9,>=0.3.0 in /usr/local/lib/python3.10/dist-packages (from datasets) (0.3.8)\n",
            "Requirement already satisfied: pandas in /usr/local/lib/python3.10/dist-packages (from datasets) (2.2.2)\n",
            "Requirement already satisfied: requests>=2.32.2 in /usr/local/lib/python3.10/dist-packages (from datasets) (2.32.3)\n",
            "Requirement already satisfied: tqdm>=4.66.3 in /usr/local/lib/python3.10/dist-packages (from datasets) (4.66.5)\n",
            "Requirement already satisfied: xxhash in /usr/local/lib/python3.10/dist-packages (from datasets) (3.5.0)\n",
            "Requirement already satisfied: multiprocess<0.70.17 in /usr/local/lib/python3.10/dist-packages (from datasets) (0.70.16)\n",
            "Requirement already satisfied: fsspec<=2024.9.0,>=2023.1.0 in /usr/local/lib/python3.10/dist-packages (from fsspec[http]<=2024.9.0,>=2023.1.0->datasets) (2024.6.1)\n",
            "Requirement already satisfied: aiohttp in /usr/local/lib/python3.10/dist-packages (from datasets) (3.10.10)\n",
            "Requirement already satisfied: huggingface-hub>=0.23.0 in /usr/local/lib/python3.10/dist-packages (from datasets) (0.24.7)\n",
            "Requirement already satisfied: packaging in /usr/local/lib/python3.10/dist-packages (from datasets) (24.1)\n",
            "Requirement already satisfied: pyyaml>=5.1 in /usr/local/lib/python3.10/dist-packages (from datasets) (6.0.2)\n",
            "Requirement already satisfied: aiohappyeyeballs>=2.3.0 in /usr/local/lib/python3.10/dist-packages (from aiohttp->datasets) (2.4.3)\n",
            "Requirement already satisfied: aiosignal>=1.1.2 in /usr/local/lib/python3.10/dist-packages (from aiohttp->datasets) (1.3.1)\n",
            "Requirement already satisfied: attrs>=17.3.0 in /usr/local/lib/python3.10/dist-packages (from aiohttp->datasets) (24.2.0)\n",
            "Requirement already satisfied: frozenlist>=1.1.1 in /usr/local/lib/python3.10/dist-packages (from aiohttp->datasets) (1.4.1)\n",
            "Requirement already satisfied: multidict<7.0,>=4.5 in /usr/local/lib/python3.10/dist-packages (from aiohttp->datasets) (6.1.0)\n",
            "Requirement already satisfied: yarl<2.0,>=1.12.0 in /usr/local/lib/python3.10/dist-packages (from aiohttp->datasets) (1.16.0)\n",
            "Requirement already satisfied: async-timeout<5.0,>=4.0 in /usr/local/lib/python3.10/dist-packages (from aiohttp->datasets) (4.0.3)\n",
            "Requirement already satisfied: typing-extensions>=3.7.4.3 in /usr/local/lib/python3.10/dist-packages (from huggingface-hub>=0.23.0->datasets) (4.12.2)\n",
            "Requirement already satisfied: charset-normalizer<4,>=2 in /usr/local/lib/python3.10/dist-packages (from requests>=2.32.2->datasets) (3.4.0)\n",
            "Requirement already satisfied: idna<4,>=2.5 in /usr/local/lib/python3.10/dist-packages (from requests>=2.32.2->datasets) (3.10)\n",
            "Requirement already satisfied: urllib3<3,>=1.21.1 in /usr/local/lib/python3.10/dist-packages (from requests>=2.32.2->datasets) (2.2.3)\n",
            "Requirement already satisfied: certifi>=2017.4.17 in /usr/local/lib/python3.10/dist-packages (from requests>=2.32.2->datasets) (2024.8.30)\n",
            "Requirement already satisfied: python-dateutil>=2.8.2 in /usr/local/lib/python3.10/dist-packages (from pandas->datasets) (2.8.2)\n",
            "Requirement already satisfied: pytz>=2020.1 in /usr/local/lib/python3.10/dist-packages (from pandas->datasets) (2024.2)\n",
            "Requirement already satisfied: tzdata>=2022.7 in /usr/local/lib/python3.10/dist-packages (from pandas->datasets) (2024.2)\n",
            "Requirement already satisfied: six>=1.5 in /usr/local/lib/python3.10/dist-packages (from python-dateutil>=2.8.2->pandas->datasets) (1.16.0)\n",
            "Requirement already satisfied: propcache>=0.2.0 in /usr/local/lib/python3.10/dist-packages (from yarl<2.0,>=1.12.0->aiohttp->datasets) (0.2.0)\n",
            "Downloading...\n",
            "From: https://drive.google.com/uc?id=1-mB6idLW5Jg4aE68jOj5NDcDxRNlMXpu\n",
            "To: /content/TestSet_sample.csv\n",
            "100% 51.5k/51.5k [00:00<00:00, 28.6MB/s]\n"
          ]
        }
      ],
      "source": [
        "!pip install datasets\n",
        "!gdown https://drive.google.com/file/d/1-mB6idLW5Jg4aE68jOj5NDcDxRNlMXpu/view?usp=sharing --fuzzy"
      ]
    },
    {
      "cell_type": "code",
      "execution_count": 25,
      "metadata": {
        "ExecuteTime": {
          "end_time": "2024-10-24T21:21:33.145716Z",
          "start_time": "2024-10-24T21:21:33.142169Z"
        },
        "colab": {
          "base_uri": "https://localhost:8080/"
        },
        "id": "c6Y8wKglU-fe",
        "outputId": "c14e85a3-ced5-4ae2-f7c6-14b424d5d36d"
      },
      "outputs": [
        {
          "output_type": "execute_result",
          "data": {
            "text/plain": [
              "<torch._C.Generator at 0x7ad772151e30>"
            ]
          },
          "metadata": {},
          "execution_count": 25
        }
      ],
      "source": [
        "import torch\n",
        "torch.manual_seed(0)"
      ]
    },
    {
      "cell_type": "markdown",
      "metadata": {
        "id": "AADnCtQddOYv"
      },
      "source": [
        "In this assigment we will use the data set wikitext. This dataset is composed of textual content extracted from Wikipedia articles which hopefully will lead to good embeddings when input in CBOW."
      ]
    },
    {
      "cell_type": "code",
      "execution_count": 26,
      "metadata": {
        "ExecuteTime": {
          "end_time": "2024-10-24T21:21:34.268522Z",
          "start_time": "2024-10-24T21:21:33.146742Z"
        },
        "collapsed": true,
        "id": "QZyk8pYS9xOJ"
      },
      "outputs": [],
      "source": [
        "from datasets import load_dataset\n",
        "from random import sample\n",
        "\n",
        "wikitext = load_dataset(\"wikipedia\", \"20220301.simple\")\n",
        "trim_dataset= sample(wikitext['train']['text'], 5000)"
      ]
    },
    {
      "cell_type": "markdown",
      "metadata": {
        "id": "2eia3XW39jWP"
      },
      "source": [
        "Let's have a look at a datapoint."
      ]
    },
    {
      "cell_type": "code",
      "execution_count": 27,
      "metadata": {
        "ExecuteTime": {
          "end_time": "2024-10-24T21:21:34.277731Z",
          "start_time": "2024-10-24T21:21:34.274763Z"
        },
        "colab": {
          "base_uri": "https://localhost:8080/",
          "height": 105
        },
        "id": "_pkSsdyq9YHT",
        "outputId": "ba797471-437d-4c26-b1f3-f219c22e2dcf"
      },
      "outputs": [
        {
          "output_type": "execute_result",
          "data": {
            "text/plain": [
              "'Substance is the material, or matter, of which something is made. Substances are physical things that can be seen, touched, or measured. They are made up of one or more elemental parts. Iron, aluminium, water and air are examples of substances.\\n\\nProblems of definition\\n\\nThe main problem of a clear definition of what the substance is that if, for example, to consider not just the universe (cosmos), being and non-being, and in general all, the question arises, what is the constant basic principle (attribute) is the basis of the substance, which generally consists of all (that is, matter, mind, senses, space, soul, and so on).\\n\\nHistory of the concept\\n\\nThe Latin word substantia - a translation of the Greek word for the essence (ousia), and in Latin to describe the essence of using the word essentia. In ancient philosophy substance is treated as a substrate, the first principle of all things (for example, \"water\" of Thales, the \"fire\" of Heraclitus). \\n\\nIn modern times, the concept of substance is treated and spread widely. The first view is connected with an ontological understanding of substance as ultimate bases being (Francis Bacon, Benedict Spinoza, Gottfried Wilhelm Leibniz). Central category of metaphysics in philosophy substance is identified as with God and with nature and determined as the cause of itself (Latin, causa sui). The main characteristics (attributes) of a substance from Benedict Spinoza are thinking and stretch. By analogy with the philosophy of Benedict Spinoza substance considered in the light of the concept of René Descartes and Leibniz. The first substance is a unity of subject and object, and the second - the same atoms are simple beings who lose their stretch, but receive attribute aspirations (French, appetition) and multiplicity. Thanks Leibniz substance begins to associate with matter.\\n\\nThe second point of view on the substance - an epistemological understanding of the concept, its capabilities and the need for scientific knowledge (John Locke, David Hume). Immanuel Kant believed that the law under which any change in the substance of events and the number of stored it in nature remains the same, can be attributed to the \"analogies of experience.\" Georg Wilhelm Friedrich Hegel defined substance as the integrity of changing, transient side of things, as a \"major step in the development of the will.\" For Arthur Schopenhauer substance - matter for David Hume - a fiction, the coexistence properties.\\n\\nRelated articles \\n Chemical substance\\n\\nBasic English 850 words\\nPhysics'"
            ],
            "application/vnd.google.colaboratory.intrinsic+json": {
              "type": "string"
            }
          },
          "metadata": {},
          "execution_count": 27
        }
      ],
      "source": [
        "trim_dataset[0]"
      ]
    },
    {
      "cell_type": "markdown",
      "metadata": {
        "id": "YyU3RJIz9qpS"
      },
      "source": [
        "As you can see there are a lot of numeric values, end-of-lines and the word \"References\" at the end. We saw in the previous assigment how preprocessing can significantly reduce the vocabulary; feel free to base the following code in your previous work."
      ]
    },
    {
      "cell_type": "code",
      "execution_count": 28,
      "metadata": {
        "ExecuteTime": {
          "end_time": "2024-10-24T21:21:34.316550Z",
          "start_time": "2024-10-24T21:21:34.278687Z"
        },
        "colab": {
          "base_uri": "https://localhost:8080/"
        },
        "collapsed": true,
        "id": "RO4OD95DQa8b",
        "outputId": "d8656c6d-4cca-4a93-b139-a8714f9b0fbf"
      },
      "outputs": [
        {
          "output_type": "stream",
          "name": "stderr",
          "text": [
            "[nltk_data] Downloading package stopwords to /root/nltk_data...\n",
            "[nltk_data]   Package stopwords is already up-to-date!\n"
          ]
        },
        {
          "output_type": "execute_result",
          "data": {
            "text/plain": [
              "True"
            ]
          },
          "metadata": {},
          "execution_count": 28
        }
      ],
      "source": [
        "import nltk\n",
        "nltk.download('stopwords')"
      ]
    },
    {
      "cell_type": "code",
      "execution_count": 29,
      "metadata": {
        "ExecuteTime": {
          "end_time": "2024-10-24T21:21:34.833693Z",
          "start_time": "2024-10-24T21:21:34.317377Z"
        },
        "id": "lR8Novc5AKMi"
      },
      "outputs": [],
      "source": [
        "import string\n",
        "import re\n",
        "from nltk.corpus import stopwords\n",
        "def preprocess_data(data):\n",
        "  \"\"\" Method to clean text from noise and standarize text across the different classes.\n",
        "      The preprocessing includes converting to joining all datapoints, lowercase, removing punctuation, and removing stopwords.\n",
        "  Arguments\n",
        "  ---------\n",
        "  text : List of String\n",
        "     Text to clean\n",
        "  Returns\n",
        "  -------\n",
        "  text : String\n",
        "      Cleaned and joined text\n",
        "  \"\"\"\n",
        "\n",
        "  stop_words = set(stopwords.words('english'))\n",
        "\n",
        "  text = ' '.join(data) #join all text in one single string\n",
        "  text = text.lower() #make everything lower case\n",
        "  text = text.replace('\\n', ' ') #remove \\n characters\n",
        "  text = re.sub(r'\\breferences\\b', '', text) #remove word \"References\"\n",
        "  text = text.translate(str.maketrans('', '', string.punctuation)) #remove any punctuation or special characters\n",
        "  text = re.sub(r'\\d+', '', text) #remove all numbers\n",
        "  text = ' '.join([word for word in text.split() if word not in stop_words]) #remove all stopwords (see imports to help you with this)\n",
        "\n",
        "  return text\n",
        "\n",
        "text=preprocess_data(trim_dataset)"
      ]
    },
    {
      "cell_type": "markdown",
      "metadata": {
        "id": "KWZMCe_ZvVV1"
      },
      "source": [
        "Our `text` variable includes all the data in just one string. Let's create a dictionary of frequencies for more pre-processing (same as in the last assigment)."
      ]
    },
    {
      "cell_type": "code",
      "execution_count": 30,
      "metadata": {
        "ExecuteTime": {
          "end_time": "2024-10-24T21:21:34.936735Z",
          "start_time": "2024-10-24T21:21:34.834766Z"
        },
        "id": "_9oY3wz0AD9-"
      },
      "outputs": [],
      "source": [
        "def vocab_frequency(text):\n",
        "  \"\"\" Creates dictionary of frequencies based on a dataset.\n",
        "  Arguments\n",
        "  ---------\n",
        "  dataset : list of tuples\n",
        "      list of tuples of the form (label, text)\n",
        "  Returns\n",
        "  -------\n",
        "  vocab_dict : dictonary\n",
        "      Dictionary of words and their frequencies with the format {word: frequency}\n",
        "  \"\"\"\n",
        "  vocab_dict = {}\n",
        "\n",
        "  for word in text.split(\" \"):\n",
        "    if word in vocab_dict:\n",
        "      vocab_dict[word] += 1\n",
        "    else:\n",
        "      vocab_dict[word] = 1\n",
        "  return vocab_dict\n",
        "\n",
        "vocabulary = vocab_frequency(text)"
      ]
    },
    {
      "cell_type": "code",
      "execution_count": 31,
      "metadata": {
        "ExecuteTime": {
          "end_time": "2024-10-24T21:21:34.941769Z",
          "start_time": "2024-10-24T21:21:34.938047Z"
        },
        "colab": {
          "base_uri": "https://localhost:8080/"
        },
        "collapsed": true,
        "id": "97_UojnMbzy7",
        "outputId": "926277b9-3156-4986-e70d-c6e00ab94aae"
      },
      "outputs": [
        {
          "output_type": "execute_result",
          "data": {
            "text/plain": [
              "504"
            ]
          },
          "metadata": {},
          "execution_count": 31
        }
      ],
      "source": [
        "len(vocabulary)"
      ]
    },
    {
      "cell_type": "markdown",
      "metadata": {
        "id": "E1Jg5xJbcdqA"
      },
      "source": [
        "Now our vocabulary is ready 😎"
      ]
    },
    {
      "cell_type": "markdown",
      "metadata": {
        "id": "oysoGd4Wxq8I"
      },
      "source": [
        "Since our neural networks can't understand strings we have to turn these strings into integers. In this case, we can use the vocabulary index to represent the words, so we will need the mapping: word -> index"
      ]
    },
    {
      "cell_type": "code",
      "execution_count": 32,
      "metadata": {
        "ExecuteTime": {
          "end_time": "2024-10-24T21:21:34.957653Z",
          "start_time": "2024-10-24T21:21:34.942968Z"
        },
        "id": "20IvUrxpwDL-"
      },
      "outputs": [],
      "source": [
        "import torch\n",
        "import torch.nn as nn\n",
        "def word_to_index(vocabulary):\n",
        "  \"\"\" Method to create vocabulary to index mapping.\n",
        "  Arguments\n",
        "  ---------\n",
        "  vocabulary : Dictionary\n",
        "     Dictonary of format {word:frequency}\n",
        "  Returns\n",
        "  -------\n",
        "  word_to_index : Dictionary\n",
        "      Dictionary mapping words to index with format {word:index}\n",
        "  \"\"\"\n",
        "  word_to_index = {\"<OOV>\": 0}\n",
        "  #Create key,value pair for out of vocabulary worlds\n",
        "  for idx, word in enumerate(vocabulary, start=1):\n",
        "    word_to_index[word] = idx\n",
        "  return word_to_index\n",
        "\n",
        "word_to_index = word_to_index(vocabulary)"
      ]
    },
    {
      "cell_type": "markdown",
      "metadata": {
        "id": "AUxUbk8nyTmu"
      },
      "source": [
        "Let's start to get more on topic. If you remember, Word2Vec has a specific way of generating each vector.\n",
        "![Captura de pantalla 2024-05-21 161613.jpg](data:image/jpeg;base64,/9j/4AAQSkZJRgABAQEAYABgAAD/2wBDAAMCAgMCAgMDAwMEAwMEBQgFBQQEBQoHBwYIDAoMDAsKCwsNDhIQDQ4RDgsLEBYQERMUFRUVDA8XGBYUGBIUFRT/2wBDAQMEBAUEBQkFBQkUDQsNFBQUFBQUFBQUFBQUFBQUFBQUFBQUFBQUFBQUFBQUFBQUFBQUFBQUFBQUFBQUFBQUFBT/wAARCAHOAvQDASIAAhEBAxEB/8QAHwAAAQUBAQEBAQEAAAAAAAAAAAECAwQFBgcICQoL/8QAtRAAAgEDAwIEAwUFBAQAAAF9AQIDAAQRBRIhMUEGE1FhByJxFDKBkaEII0KxwRVS0fAkM2JyggkKFhcYGRolJicoKSo0NTY3ODk6Q0RFRkdISUpTVFVWV1hZWmNkZWZnaGlqc3R1dnd4eXqDhIWGh4iJipKTlJWWl5iZmqKjpKWmp6ipqrKztLW2t7i5usLDxMXGx8jJytLT1NXW19jZ2uHi4+Tl5ufo6erx8vP09fb3+Pn6/8QAHwEAAwEBAQEBAQEBAQAAAAAAAAECAwQFBgcICQoL/8QAtREAAgECBAQDBAcFBAQAAQJ3AAECAxEEBSExBhJBUQdhcRMiMoEIFEKRobHBCSMzUvAVYnLRChYkNOEl8RcYGRomJygpKjU2Nzg5OkNERUZHSElKU1RVVldYWVpjZGVmZ2hpanN0dXZ3eHl6goOEhYaHiImKkpOUlZaXmJmaoqOkpaanqKmqsrO0tba3uLm6wsPExcbHyMnK0tPU1dbX2Nna4uPk5ebn6Onq8vP09fb3+Pn6/9oADAMBAAIRAxEAPwD9U6KKKACiiigAooooAKKKKACiiigAooooAKKKKACiiigAooooAKKKKACiiigAooooAKKKKACiiigAooooAKKKKACiiigAooooAKKKKACiiigAooooAKKKKACiiigAooooAKKKKACiiigAooooAKKKKACiiigAooooAKKKKACiiigAooooAKKKKACiiigAooooAKKKKACiiigAooooAKKKKACiiigAooooAKKKKACiiigAooooAKKKKACiiigAooooAKKKKACiiigAooooAKKKq3GpWtnMsU88cTspYK7gEgck/QUAWqKpHWLP7Gt39piNq2Cs28bDnpg1RuPGeiWd59kn1Sziu848lp1DfkTQBt0VWj1C3muDAkqNMqB2jVgWCnocelUbzxdounDN1qlpbje0f7yZV+Zeo5PUUAa9FZmkeJdK14yDTtQtr3y/v/Z5Vfb9cGtOgAooooAKKbJIsaszEKqjJJrHsfGeialc/Z7TVLO5uP8AnlFOrN+QNAG1RWI3jbQUu2tW1eyW6VtphM6hs+mM9at6pr+n6HafadQvILK3/wCek8gRfzNAGhRVay1C21K3S4tJ47mBxlZImDKfoRVO98UaVpsRlutQtYIhI0ReSZVG8dV5PX2oA1aKy9N8TaXrEMkllf290kf3zDKrbfrg1BY+NNE1H7SLbVLSY23+uCTqTH9eeKANuisC38e+Hrq4SCLWbGSaRtqRpcIWY+gANaDa5YJYvePdwpaJnfOZBsXHXJ6dqAL9FZWneKNK1bTnv7S/t7mzTO6eKVWRcepBwKtvqdtHDFK08YjlIVGLjDE9AD3oAtUUm6loAKKKKACiqeqaxZaJavdX91DZ2y/elmcIo/E1BZ+JNMvtO+3wX1vLZYz9oSVSn55oA06Kp3WrWljCktxcRwxv91ncAHjPH4Vkx/ELw3LMkUet2DyOQqqtymSTwBjNAHRUViR+NNDlvms11azN2pKmD7Qm/I7YzWlDqNvcSzRxyo7w48xVYErn1HagCzRWHdeNtBston1eyhLZwJJ1Xp16mrula5Ya5G0mn3kN5GpwWhcMAfqKAL9FFFABRRRQAUUUUAFFFFABRRRQAUUUUAFFFFABRUdxcRWsLzTSLFEgLM7nAAHUk1DDqdrczNDDPHLKqq5RWBO09Gx6GgC1RWTeeKtI0+DzrnUbWCLeY98kygbh1Gc9alt/EWm3VqLmK+t5LdiFEiyqVJPbOetAGjRVS71W00/AubiKBipYCRwvA6nn0rLtfH3h2+uY7e31qxnmkYKiR3CEsT0AGaAN+ikpaACiiigAorH1Txhomi3Qtr/VbSzuCA3lTTKjYJxnBNPvvFWkaZHDJd6la20UwJR5ZlUMB3GTzQBq0VTsdYstStftNrdQ3Fv/AM9YpAy/mKq6V4q0fXJ5odO1K1vZYTiRIJldl+oBoA1qKrXGoW1rIscs8ccjAsFZgCQOp/Csi18e+Hr66W2ttZsZ53bYkcdwpLN6AZoA6CisjUPFuj6XfQ2d3qVpb3U3+rhlnVWb6Amor3xxoGmzNDd6xZW8y/ejknUEfrQBuUVQs9e0/UPLFtdwz+YnmL5cgbcvqMdqrW/jDRLrV30uLVbSTUU+9arMvmD/AIDnNAGxRVaPUIJ7iaCKRJJYSBIqsCVJGcH0p1reQ30Ilt5VmiJwHjYMD+NAE9FFFABRVDVte0/QbVrnUbuGyt16y3DhF/M0kevafNYxXkd5BJaylQkyyLsYnpg5wc0AaFFU73V7PTtv2q5igLAlRI4BIHJxWXH4+8OzyLHFrdhJKxwEW4TJP50AdBRWNZ+MNE1C6Fta6pZ3FxnHlRTqzfkDWjHf283m+XNG/lNtk2sDtPXB9KALFFYVx458P2bRrcazYwGRQ6eZcKNwPcc+1aWm6tZ6xbi4sLqG8gzjzIXDLke4oAt0UUUAFFFFABRRRQAUUUUAFFFFABRRRQAUUUUAFFFFABXgnx4Zl+JnhoKCc6Dq/bjPlLXvdYWueCtF8RahDfahplveXcMMtvHNMuWWOQYdR7MBg0AfGceoXnwz+Emh+GdRnuJNB1x7O70a6kyxhlMgMlszfqPY111v4T1HxN4q+IltafDnR/FTTXwhXVNVu4ojbkxjGAVL4B5ytfSOp/DPwzrHhux0G80OxudJsXjktrOWINHEyH5So7EVo6L4U0rw5c30+m2MNnNfSebcvEuDK2MZP4UAeKfB/R7rwd8YLjQ9Uvo7i+tfDFqjOxPzlZCDtLckDpn6VkaJ4d0bxV8L/jBeahp1jqfk6trD2s9xCsgTEQGUJ6cg8ivZPH/wb8H/ABPktpfEmiQajPbgiKfLRyID1AZSDg+mcVq6X4B0DRvCT+GLHSbW20FoXgOnxRhYijAhgQPXJyfegDmvgL4Y0bQvhh4bm03S7OwlutPgkmktYFRpTsByxA5P1r0eqekaTaaFpdrp9hbpa2VrGIoYYxhUQDAA9sVcoAKKKKAMnxZ/yLGrnuLKb/0A18n/AA0+Ges+N/h/4KXT/Aej6A8U0F43ik3ifaditk7URd5ZhxhjjnmvsK4gjuoZIZUWSKRSjowyGBGCDVLw/wCH9P8ACuj2mlaVax2VhaoI4YIlwqqOwFAHxRJa3Vr4H8WXE3w50LV7CbV7i2l8S31xmaz3SECV41iZ9qnurflXqng3wvp+s/FWy0PxRLB4ig0rw9byaWt0PMgnY8PMitncccZPIFe6WHgfQdO0q+02DSbWKxvXke4gVBslZ/vEj3zWHq3wQ8E65oenaRdaBbtY6fkWqxlo2gB6hHUhlHsDQB598M9S0XwP8ZPGXh7TryGw8PTPbC3sQ+IUv5A26OIdFJUAlRXlF5pt9q+paLaW2jaf4iuZPHmsk2OsTNFbyAIM73EchGM5HyHmvpiX4I+CZPCZ8N/8I7aLo/mCYQICp8wHIfeDu3f7Wc1VvvgD4E1Pw9pehXPhiyk0rTJXntIPmBikb7zhgcknuTyaAPM/iRpOqeGfhTeR3nhbQfBUN5qdrbXp8O3hlV7Vnw7Oxgh29h0PB612mo/Dz4aaDrfhbfY2Ok6hOhtrKKzQJ9tUrysiqP3i45+b866bwz8GfB/hOx1Oy03QreCz1JBHdQMzSJKo7EMTUHhP4GeCfAurf2ro2gwWuoBdi3DO8jRr/dTeTsHsMUAeb/D/AOH/AIZt/jB8RhB4d0yM2awNbbbSMeSShyU4+U+4xXD+BbO18QTfDDQdfVJ/Dt3f6tLJbzyZhuLpJGMSOM4buQvIJFfUtn4S0rT9T1HUrfT4Ir/UAourgL80oAwN34GsW9+EvhPUPCo8Nz6BYyaKshmW08vCrIWLF1I5VtxJ3DmgDwH446NpnhHxhrum+G7WKxttU8KXUusafYKEh+VgsUrIvCOcsuccgVz51K98Baf4H+HutXFxdRvqdld6DfzE5mtyCWhZv7yHj3GK+mdC+Cvgvw3o+p6Zp+gW62uprsvRMWle4X0d2JZvxNaupfD/AEDWI9IS+0ezuk0mRZbESRg/Z3UYDJ6HFAHQx4wcetPpBS0AFNfG054GKdSEZBFAHiHjDT7HxT+0No+j+I44rzSYdJa6sbG65hmn34Z9h4ZlGOMGvNPibptn4Z1v4j6N4bjjtNHbSYby8s7UYit7jeMNtHCEjr0r6W8ZfD3w94/s4rXX9Lh1CKE74mYlXib1RhhlP0NReGfhf4W8J6Hd6Ppei2tvp93u+0xFN/n56+YWyX/EmgDzD4nNbahF8H7TzI5hcapbHyd24Sx+ScnHdaqeFPhz4SX9ozxXAnhvSxDb6RaTRItpGFjkMj/Ooxw3A5r0Hwh8BfAngDWP7V0Hw3a2N/gqswLOYlPURhiQg9lxXVw+E9JtvEF1rkdjCuqXUKwTXKrhnRSSoPrgsaAPkbwb8PdX8feA9a07Tfh7o7z3Wq3Yi8VXV3HHNDi4Y7wqoZMqOAMjp1r174TxtpfxO+I9rc3AeSCO23vIwDNiEAvj04PNeueG/DOneFNPNjpNnDp9qZXmMMC4Xe7FmbHuSTXLeOvgX4G+JWrQ6l4j8PW+o30aeULgsyOy/wB1ipG4ex4oA+e7rwzo+sfsz6tqV7pVnf3a6jMYLuSFHkCmfHyv1A+hr6j8D+HdM8OeHrKHS9OtdNikhjd0tIFiDNtHJCjk+9JL4D0G48Np4efSbU6LGqoliIwsSqDwABW9BClvDHFGoSNFCqo6AAYAoAkooooAKKKKACiiigAooooAKKKKACiiigAooooA4L48KW+DfjEKcN/Zdxg5xj5D3r51tLXWfD3xOvvG+hSXE8uh+H9GW+0tWJW7s2g/eEL/AH0+8D7EV9c65otj4k0i70vUraO7sLuNoZoJRlXUjBBFZ2k+B9E0O+ub3T9Nt7S5uIYraWSNAC0cS7Y1PsBkUAfH+nX8fjG08HahpmiW/i62vvE+pTQ2N1IkccqMM/MXGBj0NdD4w+HuseE9P1DxDfaNpvg7Tb7VbBU0fTbkSRR7XGZXIVVBPoBX0fpXwo8J6Etj/Z/h+wtPsNxJd2yxxACKWQ5d19Ca3PEXh3TfFWj3Ol6vZQ6hp9ymya2nUMjj0IoA8p+Ii2ur/HD4dWT+TexPb3jywNiRWjMeMsvcfXisr4W/DzwvafHD4hmHw7pSNZnT3titkg8hjE2WTjCn3GK9A8BfBHwT8Mr6e88N+H7fTruZPLa43NJJs/uhmJIX2HFdPp/hjTNK1bUNUtLGGC/1Db9quFHzy7Rhcn2FAGvRSCloAKKKKAPmHxhpFzqn7R3idLf4fab44P8AYtpkalcRRLD878jzFOQeOgrk3+Geu+DvE/gTQ7nwxo/iy+W01K5GjXV5ttLVXmDJFHI8bZ2j5RwPyr6ztvC+lWfiO81yGwhj1a7iWCe8Vf3kiKcqpPoDmi68K6Xe+ILPW5rGGXVLSN4YLpl+eNGOWUH0JoA+PLNrhvBPirUja2fhC01HXbax1Xw1pszj+zYwwWTzG2qAX7lQBg16j8WvDfhv4et4I1TwtY2eiammoxQQSWKLE08B++r7R867eTnPrXsdz8PfD0+p6pfvotlLdapCIL6Rox/pCDoHH8X41i+FPgX4H8GaodQ0rw/bwXm0qk0jvIY1PVU3E7B7LigDzX4u6xaa/wCMvDl/pdwt9Zz6DqzRTxNlJAISMg9+ar/AHwVrMfhvwbeXXw38G2lr9hhkOrRX7tfDC5WTyzaD5jkHHmcZPNep6H8CfA/hy+1G80/w7Z29zfxyQ3DfMwZH++oBJChu4XGazdD/AGa/h14ZvrK60zwzb2ctm4kg8uWTEbAgjA3YwCOmMUAef/Cnwl4S8aeB/F2s+MrKxvtTl1G9XVr26UGa1EbttUMRmPagUjGOxqr8T/B/g3UrD4Z3+nafaataXeqQxLfzwh5biHacB2IBYY9a9W8SfATwH4r1yTV9T8N21zqEpDTS7nRZmHQyKpAf/gQNdRqHhDSNWh02K8022nTT5FltVaP5YWAwCo7YFAHgvxNt28KfELWl8O2a2L2vhOc20dmgjWM7hyqr3xUPi7wX4L0X9m+18R6VZWcGrW9nBf2WsQAfanvTghvNHzMxfIIzznFfQc3g/SZ9cOstp9u2pG3Nr9oKfP5ROSmfSuTsf2f/AADp+vDWIfDVoL1JfPjB3GKOTOd6xE7Fb3AzQB4Bot7rXgH4g+OPiN/pU9lHeWtp4m01c4WJrSNjcIvYxu3IH8OfSvbf2XbiK7+C+iXEMwninaeVJF6Mplcg/lXe2Xg/SNPn1mWHTbZG1h/Mv/kz9pbYEy4PB+UYqXwt4V0rwXotvpGiWEGmaZbgiG1tl2xoCckAduSaANakalooA8L1bSbDxh+0hcab4ltotQs7LRFuNKsLwB4WkMmJZAh4ZgMDocA15V8RLOy8L+JPHOjaIVtvC9rqWh3ksMDYt7K6eceYq9k3LtYqOlfT/jj4Z+GviLDbx+INJh1A27boZSSksR77XUhh+BqPTfhT4T0rwpceGrXQbJNDuiTc2bx71nz1L55Yn1OTQBwXxKjh1H40fDSzeOO5ikhuzLDIoYNGUUZZT2+vFcv4e+Hnhm1+K/xPKeHdNQWlnC9vttE/csYiSVGPl/CvV/A/wR8E/DW8mu/DmgW9heTLsa43NJJt67QzEkL7Dit6HwdpMOp6jqEenQLd6kgjvJsfNMoGAGP0oA+U/APwy1fxz8O/D1rpvgLR9Cma5FwPFZvUF0irMSXVUTfuOMYJA9a9U+FdzFbRfFxZ5VV7bV5nlMkoBRTApDH0GM17Jofh+w8M6XBpul2kdjYwAiOCFcKuTk4H1NcV4v8AgB4C8d69/a+t+GrO91BgBLMdy+cB0EgUgOB/tZoA8F1Twjomqfsl+CtTvdGs7i/drBBdTwq0pja4BxuIztIPTPOa+qfDnh/TPDemxWulafa6bbYDeTaRLGmT3wBim6x4P0bXtBi0a9022uNLiMZjtHjHlp5ZBTA7bSBj6VrRxlFC9ABgAdKAHjpS0gpaACiiigAooooAKKKKACiiigAooooAKKKKACiiigAooooAKSkEi+uPrS7h60AFFG4etG4UALRSZpaACiiigAooooASilooAKKKKACiiigApMUtFABRRRQAUUUUAFFFFACUtFFABRRRQAUlLRQAlLRRQAUUUUAFFFFABRRRQAUUUUAFFFFABRRRQAUUUUAFFFFABRRRQAm2ilooAKKKKACiiigAooooASilooAKSlooATbRilooAKSlooAKKKKACiiigAooooATFLRRQAUmKWigAooooAKKKKACiiigAooooAKKKKACiiigAooooAKKKKACiiigAqlrM7W2kXsyNteOB2DehCk5q7Wd4i/5F/U/+vaT/wBBNAHG+G/Bq6xotle3Gsas888Ykcrc7Rk+gxWn/wAK7t/+grq//gX/APWrQ8Df8ilpX/Xuv8q39ooA5D/hXdv/ANBXV/8AwL/+tWR4h8Pt4Xm0W6tNU1Jnk1O3gdJ7jejIzYIIxXo20VyPxGH+j6F/2GLT/wBDoA65RilpisafQAUUUUAFFFFABRRRQAUUUUAFFFFABRRRQAUUUUAFFFFABRRRQAUUUUAFFFFABRRRQAUUUUAFFFFABRRRQAUUUUAFFFFABRRRQAUUUUAFFFFABRRRQAUUUUAFFFFABRRRQAUUUUAFFFFABRRRQAUUUUAFFFFABRRRQAUUUUAFFFFABWR4s1SbRfDepX9uFM1vA8iBhkZAOM/jWvXO/EP/AJEfXP8Ar0k/lQBk2um+ObiCOQ+IdLG9Q2P7ObjP/bSpv7I8cf8AQw6X/wCC5v8A45XUab/x42//AFzX+VWqAON/sjxx/wBDDpf/AILm/wDjlVV1DxRoXiLSLbVNQsL+0vpmhKwWrRMMIWDA7j6V3lcj4w58UeEx/wBPj/8AopqAOtX7opaQdBS0AFFFFABRRRQAUUUUAFFFFABRRRQAUUUUARzXEVsqmaVIgzBQXYDJPQfWov7StBvzcxDY2xsuPlb0Poa4741aBc+IPh3qS2Ku+oWRS/tlj+8ZImDgD3IBH4181+C/D/jDV/Gelpe6dfx2fi2Qa/evMp2WjxggRN/dJODj2oA+lLj4xeG7XVPsU175LNejT4pZNojkmxkqpJ5xWn428daf4D0mK9vxczmaZbeCCzhMs00jHhVX/Hivm6HSbWTwb4Hn1LT2ujp3iib7cWgMrRMWOCwHOM45r0j4keOvFnwt8N3mqalFaeJGuJ0i0qDTdPkY2rE8SS8klVHpigDq9L+N2hajpNxfyw3+mrZ30en3sF7BsltZHxsMgyQFO4fMM9a7XXju0HUsf8+0n/oJr5tt5dKuv2efiJdx3WoalrOoI7395qFo1s010ygRCNGH3QdoUDpXvlqtzH8PI1u8i6XTMS567/K5/WgCz4HX/iktK/691/lW7WD4HP8AxSelf9e6/wAq3qACuQ+I3/HtoX/YYtP/AEOuvrzH9oS81rTfAsN74eiiudZtdRtJ7e1mHyzlZAWj9iVDAe+KAPSlqSuf8D+MNP8AHnhnT9b0191rdxhwrcMh7ow7MDkEeoroKACiiigAooooAKKKKACiiigAooooAKKKKACiiigAooooAKKKKACiiigAooooAKKKKACiiigAooooAKKKKACiiigAooooAKKKKACiiigAooooAKKKKACiiigAooooAKKKKACiiigAooooAKKKKACiiigAooooAKKKKACiiigAooooAK534h/8iPrn/XpJ/KuhzXzZ+2R+1h4W+Avhb+wJpU1Txhr2LOw0aJ/nzIQolk/uoM/jQB9E6Wd1hbEf881/lVuqGh+Yuj2XnbfN8lN+3pnAzir9ABXI+Lv+Ro8Jf9fcn/opq66uQ8Y5/wCEm8J46/a3/wDRTUAddSM4XrXg3iL9pafwxqiabd6TG15F4gOmXiqxxDaYDLc/iGX260yx+KWrfEjxlaWNmBYWMEV5fRlGIF0kbFIix9CRnigD3wOCM5pPNXjnr7GvEfgn8V5pPA9j/wAJprNpHrd9czJbYLsZFDkDrmufvNP1LTPijotlo/inVNe8SyX5n1VVnb7Hb2J6o6fdXjoBzmgD6QVg3IOaWvNfhL4gvZNT8X+HL6Z7mXRNSCQzSHLGGVRIik+3zD8BXpVABRRRQAUUUUAFFFFABRRRQAhG7imrGFzT6KAMrTPDGnaPeX1zaQCKS9k82fB4ZvXHrWmEC5wMU6igDL13w1p/iSG3h1GH7RFBOlyiMeN68qSO4B5x7U/Xl/4kOpf9e0n/AKCa0aoa/wD8gHUv+vaT/wBBNAFHwOP+KT0r/r3X+VbtYfgf/kUtK/691/lW5QAVx3xIO2DQzjP/ABN7T/0M12Ncb8SP+PfQ/wDsL2n/AKGaAOL01R8IPi5Jpp+Twr4vle6tMnCWuoDmWMegkHzj33V7LkHpXJ/EzwLD8RPCF1pLyfZ7nImtLpfvW86HdHIPof0JFZvwc8czeMvDUkepxfZfEOlzGw1O2PVJk4yPZhhh9aAO/ooooAKKKKACiiigAooooAKKKKACiiigAooooAKKKKACiiigAooooAKKKKACiiigAooooAKKKKACiiigAooooAKKKKACiiigAooooAKKKKACiiigAooooAKKKKACiiigAooooAKKKKACiiigAooooAKKKKACiiigAooooAKKKKAPKf2nPHHjj4e/CHWNZ+HnhlvFXiWJcQ2inJjUg5l29X29do61+G/wQTxP8fv2stHuvF95dajrM17Jf3kt1nd+5DORg9FBXGBxX7mfGzxRqP2PTvB/h6byfEniOU20Myn/AI9bcDM9wfZEzj3K1ja9+z38PfCOkf8ACR6V4YsbTX9G0eSxttSjjCTGIrht5XAdjySxGck80AevaS3mafbN/wBM1/lV2qmkgLpdoBwPKX+VW6ACuQ8Y8+J/CX/X4/8A6LauvrkPGH/I0eEv+vx//RbUAc34m+APhzxf4k17Wrw3Qutb0waZcLG+EVQc+Yo7P2z7VXg+EreD9e8IXOgQm4sdMsm0e6jlcBzAeQ+e7Z6/WvVof9WtSUAcL4I+Flj4L0eTTlnk1GMTSS28l1GjPbhiTtU46AmuV8Kfs7P4L1651Sx8beIJFuLtry4s5ZUKTsTnaxxnb2xXsm2g0AcF8MPB99odx4h1jVFEWqa1fG4kjVw3lxqAkaZH+yM/jXfUwDFPoAKKKKACiiigAooooAKKKKACiiigAooooAKqavbyXelXkEQzJLC6L9SCKt0UAef6DrniTR9HtLF/BV9I8EYjLpeWpVsdxmQcfhV//hL/ABF/0JGo/wDgZa//AB2uxooA47/hL/EX/Qkaj/4GWv8A8drK1y78QeKLjR7dvCl5YJFqMFxLcT3VuUREbJOFck/QCvRqaw5oAX7orxv4lW8vwz8c2PxBsY2Gl3Oyx8QRRjgxk4juMeqEgE+hFeyDpVPV9Jtdb0u7sL2ITWlzE0UsbdGUjBFAE9vOlxCksbB0dQysOhB5BqavIvg7qtz4U1bUPh3rEzSXOlL52lzyHm5sifl57sn3T+Feu0AFFFFABRRRQAUUUUAFFFFABRRRQAUUUUAFFFFABRRRQAUUUUAFFFFABRRRQAUUUUAFFFFABRRRQAUUUUAFFFFABRRRQAUUUUAFFFFABRRRQAUUUUAFFFFABRRRQAUUUUAFFFFABRRRQAUUUUAFFFFABRRRQAUUUUAFVNV1KDR9PuL26lWC2t0Mskj9FUDJP5Vbrx34sXcvxE8UaZ8OLEv9ml23uuzRnHl2qniPPYyHj6ZoAk+Dmmz+LtY1X4lapHJHPrH+j6RDJwbfT0OVOOxlYbz7Ba7zx1bSXfg3WoIonllktJAscaksTtPAA6n2rbt7eO1hjihjWKKNQiIowFUDAAFSUAchp/xF0WGxt0eS8V1jVSrWE4IOP92rH/CytD/563X/AIAT/wDxFdN5I9f0FHkj1/Qf4UAcz/wsrQ/+et1/4AT/APxFY2peJbLxL4s8Mx2AupWhuXkdms5UVV8tuSzKAK7/AMkev6ClWPac5/QUAJGu1VHWpKKKACiiigAooooAKKKKACiiigAooooAKKKKACiiigAooooAKjuLhLW3lmkOI41LsfYDJqSqHiDjQdS/69pP/QTQBzMHxUsbqNZIdK1iaNhlZEsztPuOak/4WZbf9AXWv/AP/wCvWl4Fbd4T0o/9MF/lW/QBx3/CzLb/AKAutf8AgH/9elj+J1g11aQS6dqlobqdLdJLi12pvY4AJzXYVx/xI/1Hh/8A7DNp/wCh0AdhRSLS0AeYfGrwne3NpY+K9BQnxH4fc3MCrx9oi/5aQn2Zc/jXZ+CvFln448L6frlg+62vIxIF7oejK3oQcg/StplDDB6V43pb/wDCnfisdKYeV4U8WSmSzJ4S11DktGPQSDkf7Q96APZqKKKACiiigAooooAKKKKACiiigAooooAKKKKACiiigAooooAKKKKACiiigAooooAKKKKACiiigAooooAKKKKACiiigAooooAKKKKACiiigAooooAKKKKACiiigAooooAKKKKACiiigAooooAKKKKACiiigAooooAwPHPjCz8C+F7/AFq9P7m1TIQdZHPCoPcnArlPgv4Tu9H0W717WVz4j8QS/bbxm6xKf9XD9FX9c1hakT8XPisNLXMvhbwtIJbvutzfdVT3CDn617KFxQAlMnnjtoXlldY4kBZnY4AA6kmpNtc98RAB4F17I3D7HJkevy0ATjxtoW0H+1bX/v6KP+E20L/oK2v/AH8FGmeG9LbTbX/iX2v+qX/livp9Ksf8IzpX/QPtf+/K/wCFAFf/AITbQv8AoK2v/fwVNZ+KtI1C6S2ttRt5p3ztjSQEnAzTv+EZ0r/oH2v/AH5X/Cub8RaPY2HirwrJb2kMMn2txujjCnHlt6UAdxRTEbco+lPoAKKKKACiiigAooooAKKKKACiiigAooooAKKzNe8R6d4ZtYLjU7pLSGadLaN5M4MjnCrx6mslfid4ZM2oRf2xbGXT7lbO6VSSYpm+6h46mgDqaK8c1P8AaN0nSdTsUubSRNPv9VOl2l0GdvMcfefCo3GeMV6L4s8WQeE/D9xqs1rd3scS5EFjA000h7KqqOpPrjHegDerP8Qf8gHUv+vaT/0E153pHxoOofCfTfHs+kyWljJJ/pts8oMltF5hjLcDBKnBI9M816BrMyXHhq+ljYPG9rIysOhBQkGgCn4D/wCRR0r/AK4L/Kugrn/Af/Io6V/1wX+VdBQAVx/xI/1Hh/8A7DNp/wCh12Fec/HLxCvhXwvYau9je6jHY6nazPbafF5s7qJOdiZG4gc4BzgHHOBQB6KtLWR4X8VaT4z0O11fRL+HUtNul3xXELZB9QR1BHQg8gjBrXoAK5f4leBrf4ieD77RppGt5ZFEltdR/ft5lO6ORT2KsAa6iigDz/4M+Orjxl4bmttVQW/iXRZjpurW3pOgH7wf7EikOp9D7V6BXjfxOtz8L/Gtj8S7JMabKsem+JYYx962LYiusdzEzYJ67GP90V7DDMlxCksTB43UMrL0IPQ0APooooAKKKKACiiigAooooAKKKKACiiigAooooAKKKKACiiigAooooAKKKKACiiigAooooAKKKKACiiigAooooAKKKKACiiigAooooAKKKKACiiigAooooAKKKKACiiigAooooAKKKKACiiigAooooAK4P4yeOJvBPhP/iXL53iDU5VsNLt+ped+A2P7qjLE+grvK8Y8B7viv8Sr7xzKu/w9pJk0zw+rfdkYHFxdD/eYbVPovvQB3Xwz8BQfDzwnaaXG/n3ODLd3LD5552OXdj7kmutoooAK5z4jf8iHr3/XnJ/6DXR14x8ff2gvAPw70ufw3rfiK2j8SashtbLRbU+feTO3A/dJkqvOdz7RgHmgD13S/wDkG2v/AFyX+VWqq6X/AMg214x+6X+VWqACuS8Xf8jL4V/6/G/9FtXW1yXi7/kZfCv/AF+N/wCi2oA6mP7q/SpK5/UPG2h6LeXNnfajFbXNrZHUJkkyNluDgyE46A+lY+ufF/w1pOhnUI9RivFksRf28cJJaaNjhCvHRiQKAO4orzbwT8aLDxZ42v8Awm9q9rq9jaRXUw+dl+cZ2glAOPrTfi18Zrf4ZXGmWw0bUNWur6eOLdbxEQQKzBd8kh4HX7oyTQB6XRXJr43S3+IY8K3cHkS3Fobyyn3EidVIEi9OGXIPuD7V1lABRRRQAUUUUAFFFFABRRRQByXxW8KzeMvAOrabahTfmMTWhY4AnjYPGc9vmUV8/wDgv4D+MLTxZ4futTghSz1BP7S8QFJs/wCnKCEA45HPX2r6sPNAXFAHzDofhzVZPC3h2zsdNk1HUPDPiOR76zSRUk8tmOJBu68HNe36B4Ou9Dm1K5l8Ratqy3ikraahIrRwE84TCjHpXURWkMNxJMkSJLJ991XBb0z61OeaAPn/AFLQ9Q8H/svaj4f1K2A1m8imsYLVG3l5Z5SIwp7n5gfbB9K9dt7GTS/h+tjK26W203yXb1ZYsH9RW7NZwXXl+dEkvlsHTcudrDoR71W18Y0LUj/07Sf+gmgCh4DX/ikdK/64L/Kt+sDwK2fCOlf9cF/lW/QAVyHxGb/R9BH/AFGbT/0OuvrjviP/AKvQP+wzZ/8AoZoA47xV4D1j4d65deLvAUKyi4fzdX8Nk7Yb71li7RzYHUcNjnnmu+8D+PtJ+IWirqOkzFlDeXPbyrtlt5B96ORTyrCuhNeXePPhvqFrrDeL/A8kWm+JUX/SbVuLfUkH8Eo/vej9aAPU6WuM+HPxLsfH1lMgifT9Zs28q/0u4+Wa3k+ndT2YcGuzoAq6npltrFjcWV5CtxaXETQzQuMq6MMMpHoQa8r+DuqT+C9X1L4batPJPcaUPP0m4mOWurAn5Oe7R/cP0HrXr1eZ/Gzwjd6hYWPijQ0P/CT+HXN1a7etxF/y1gPsy9PcCgD0scjNLWF4L8XWfjjwzYazYtmC6jD7e6N/Ep9CDxW7QAUUVFJcJEwVmVWP3QSBn6UAS0UzzV6Z5o81dxGR+dAD6KaGp1ABRRRQAUUUUAFFFFABRRRQAUUUUAFFFFABRRRQAUUUUAFFFFABRRRQAUUUUAFFFFABRRRQAUUUUAFFFFABRRRQAUUUUAFFFFABRRRQAUUUUAFFFFABRRRQAUUUUAFFFU9W1S10XTrm+vJVgtbeNpZJGOAqqMk0AebfHDxFfXVvpXgfQZmh1/xNIYDNH96zswM3E/sQuFU/3nFd/wCF/Dlj4S0Gx0jTYFt7GzhWGKNeyqMfnXnHwU0e58TahqvxI1eFor3XgsWmwSfetdNRiYVx2aTmRvqvpXrgFAC0UVwPxK+KEfg82+k6bbNq/ivUDssdLiPJ/wCmjn+FB3JoA+Gf+Cpn7QXxw+Ddzp1j4V1W20HwbqsTL9u0sY1AOB8wd8kovTDJj0JryX/gmT8A7zxRp/jf43eLBLqLQW09npE18xd5ZmX99Pk9wMKD7tX6P6V+z/pXiHw/rS/ECKHxVrPiCAwalLOuY44iP9TCD9xVz1HJIzWhb/DXQ/hH8DZ/CXhu0Fno2l6fJDbw5ydvJJJ7kknJoA9G0z/kHWuOnlr/ACqzVXS+NNtv+ua/yq1QAVyXi7/kZfCv/X43/otq62uS8Xf8jL4V/wCvxv8A0W1AHn3x9+GWteNNR8OXWhxJL5jNpmqqz7CbGQgvj1wVHHvXm/8AwpvxJ4V8E+KJ9St4zHpt3BDpkcL72bToJN4+h5PHtX1lHjavHalliWaN43UMjDBVhwaAPDtN8J6t4k+IGtX1rJfaZoutafbPb63pkyB42Qcpgg4z610fxQ8B6tq3w9sNH0+ebWb62vbaVp72QCR0SQMxZgOuAe1emWtvHaQJDEixxoMKqjAA9qk296APKvEcR134/eDktBuGiWd5dXrr/AsqCONT9SScf7NerVWWxiS4knWJFlk2h5AvzNjoCas0AFFFFABRRRQAUUUUAFFFFABRRRQAUUUUAFUPEH/IB1L/AK9pP/QTV+mTQpcQvFIu+N1Ksp7gjBFAGH4IZY/CelgsM+Qv8q2/OT+8PzrlF+FPhuNSqWlxGvZUv7hQPoBJxR/wqvw9/wA+91/4Mbn/AOOUAdX5yf3h+dch8RnDRaAQc/8AE5s//Q6k/wCFV+Hv+fe6/wDBjc//ABynQfDLw/a3dvcLZzPLbzLPEZryeRVdejbWcjIzQB1VDJ7UU+gDzr4i/Ck+JLqDXtAvDofi2yH+j30Y+SUf88plH30PvyO1O+G/xUHie6uPD+uWp0XxjYqDdabIeJF6edCf44z6jp0Neh1xXxI+GNj8QLe3l8+TSdcsiZNP1m0wJ7WTsR/eU90PBFAHa0V5Z8PfijfRa8fBXjmGPTPF8aM9tcICLXV4l4M1uT/EON0f3lznkc16nQB4xpZPwg+KkmmvmLwt4pkM1p/ctr3q8fsH6j3r2auW+JHgeHx94RvdJdvJuGAltbgfegnXlHH0NZPwb8cXHi/w7JbaqPJ8RaRIbHU7cjBEq9HA/usORQB6BXy38StH1KPxl4t1XVtI1TxRoUjhbXU/D99++0jZGu5TBkHKkFiQDnNfUleZeIPgHo+taxqmoW+s65og1U7r+10u7WOG5bGCzKyMQSOCVIJoA5L4W+IjrPxauvs2rXOqaY3h2xmglmyDJnOXK9mOOa8l8falrt9Yz/2dql5Dcw+L7hozHK2GWNd3l+69eK+g/EP7P/h7V10prK71Tw7c6daiyhutGu/JkMI6I2VYMPrz71b0r4G+GNJ0/RrKGO6kTS7l7xJJpy0kszDDNIcfMTQB4/4m8eX/AI4+JXw2u9Ov54NKtrqBLmOGQhJZpFO5HA64weK+pV+70xXnGi/APwp4ftrWKxhuo1ttTOroGnLfvznqcfd56V6OvSgBaKKKACiiigAooooAKKKKACiiigAooooAKKKKACiiigAooooAKKKKACiiigAooooAKKKKACiiigAooooAKKKKACiiigAooooAKKKKACiiigAooooAKKKKACiiigArxv4pXUnxK8aaZ8ObNmGnYXUNfmjP3bZWBSAnsZGGPoDXoPxA8YWngLwnqGt3hPl20eVReWkc8KgHck4Fc78FfBt34c8P3Or6yN3ibX5ft+os3WMkfJCPZF4+uaAPQYY0hjWONFRFAVVUYAA6ACpKatea/Ej4nXdnq0XhDwhCmp+MrtN535MGnRH/AJbzkdB6L1b6UAWPiR8UJPD97B4d8PWo1jxhfL/o9kp+SBe80x/hQfrU3w4+F8Xg17nVtSum1nxVqHzXuqTDk/8ATOMfwoOwFTfDb4Z2ngKxmkluH1bXb0+bqGrXAzLcP/7Kg7KOBXa0AIM1z/xC/wCRG13/AK9JP5V0NUta0mPXdIvNOmZkiuomiZl6gEYyKAJ9N/5B9t/1zX+VWa42PwdrUMaxx+LbxUUYUfZozgU//hEtd/6G67/8BYqAOvrkvF3/ACMvhX/r8b/0W1N/4RLXf+huu/8AwFipbXwTdtrFjfahr1zqIs2LxwvCiDcVIycfWgDqo/ur9KkpirtAp9ABRRRQAUUUUAFFFFABRRRQAUUUUAFFFFABRRRQAUUUUAFFFFABRRRQAU0rmnUUAN206iigAooooA5j4gfDzR/iToR0vWIXKK4mt7m3cx3FrMv3JopByjqehH45HFcN4R+IOs+A9ctvCHxCnWaSdvL0jxMq7YdRHZJh0in9ujYyPSvYKxfFXhHS/Gmh3OkaxZw3thcLteORc+4IPYg8gjvQBsK+a8d+J0Mnwv8AGln8RrGMnTpQtj4giQfegJ+SfHrGT+RNQab4k1j4H6hb6N4ru5dW8ISt5dh4imy0trk4WK5PoOgk/Otn9ojxvqPgz4O+INa0TwpJ44mS2bGmQOB5qMOW6HcADnA60AemWt1HdQxzRSLLFIodXQ5BBGQQfpUo/Kvw3/Zw/bO8f+IP2rPhtD4n168t/DVnqJ02HRBIyw28cpMaoynrtJUZbJ+Wv2C8P+H73xLb3V7ceIdXhkN5cRiKG5KIqpKygADpwBQB6MRmk21xv/CAzf8AQya5/wCBrUf8IDN/0Mmuf+BrUAdnS15v4m8M3mgaPPqEHiPWGlgw4WS7ZlPPQg9a9CtGZ7WFmOWZASfXigCaiiigAooooAKKKKACiiigBC22k3eoI/CuK8ZWA1rxdoGnTTTx2kqTPIkMrR7iF4zg1P8A8Ky0kf8ALbUP/A2T/GgDrt49/wAjRvHv+Rrkf+FZ6T/z31D/AMDZP8aP+FZ6T/z31D/wNk/xoA68MG6UtcX4BtWsLzXrRZ5preC62xrPIZCox0ya7JaAHUUUUAFFFFABRRRQAUUUUAFFFFABRRRQAUUUUAFITilrifGlous+JvD2nSzzxWswuGkjhlZN+0LjJB9zQB2m71BH4Ubx7/ka5D/hWelDpJff+Bsn+NL/AMK10v8A563/AP4Gyf40AddvHv8AkaVWDf8A6q5D/hWul/8APW//APA2T/Go/AVr/ZmteJdPSeaW2triLylmkLlN0YJGT70AdpRRRQAUUUUAFFFFABRRVHXJGi0a9dGKusLEMOoOKALm4fSjcPWvP/DPgWw1Tw/p93cT30k80KySMbyTlj1PWtP/AIVtpf8Az0vv/AyT/GgDrdw9aPMHr+lcl/wrbS/+el9/4GSf41wHxlsbz4f+HbO+8Lrfz65cXaWlun2h5E3PxucE/dXr+FAE98w+L3xeisMCbwv4RlE8+fu3N/j5E9xGPmPvivYxjmuT+GfgmLwH4Ps9K3/aLoZlu7huTNO5y7n6n+Vcp4z+IGqeKtcn8G+BZB9vT5dU13bvh0xD1C9nmI6L26mgCfx98StTvtebwT4DSO88UsgN7qEo3WuixMOJJf70p/gi6k8nCjnpfhv8NdN+G+kSW1s0l7qF1J599ql22+5vZj96SRu5PYdAOBgVL8P/AIe6R8ONDXTdJib5mMtxdzNvnupW5aWVzyzE9zXVUAN20badRQA3bSgUtFACbeaKWigBKKWigAooooAKKKKACiiigAooooAKKKKACiiigAooooAKKKKACiiigAooooAKKKKACiiigAooooAKKKKACiiigCjquj2et2E9lfW8d1aTqUkhlXcrKeoIr5T+O3xs/wCGF/Ds93dTLr3hS8DppelyzD7VaTEHCLnlov5V9dV86ftTfsReBv2rIobjxBLf6frVpGY7W/tJuEHvGflI/KgD87vC3w1tP26vDN38TvAVvYeHfjR4dvxd6hotsBFb6hGH3xyKP4X4xnufrX6t/Au8uNU+G2m3t3E9vdXDzSSwycMjmRt6n3DZr84Ph3+xZ8Zf2F/jdp3jrwso8ceDRJ5Gpw6acXD2rff3Q9SVxuGM8gV+lfwlvItQ8JpdW4YQTXV1JGHUqwUzMRkHocUAdnto206igDl/iMuPBuo/7g/nXQWH/Hjb/wDXNf5Vg/Ef/kTdR/3B/Ot+x/48bf8A65r/ACoAnooooAKKKKACiiigAorN8QeJNL8Kaa+o6zf2+mWEZAe5upAkaknAyTU2m6tZaxapcWN1FdwOAVkhcMpB9xQBz2t/8lD8N/8AXG4/9Brq8ZrlNb/5KH4b/wCuNx/6DXVrQAbaNtOooA5Pwa3/ABOPEuf+fwf+g11dcb4UmW21LxVMwJWO63HHXhao2nxu8LXl5oFot66z60s7WqNGR/qs7w3oeD1oA9BorxnWfj4JBLdaFaSXtjZ6LPrVzuQiQoCUiRR23MCc+gq34e+M1zqS+Bb68tPsmm+JoCgWVCkkVwF3bSD/AAkZx9KAPW6KSloAKKKKACiiigAooooAKKKKACiozcRAE+YuAcHnoazte8T6b4bs/tN/cCKPzFiGBuYsxwoAHJJoA1K4/XP+R88Mf7t1/wCgpU8vxM8PJHM4v1Kw3q6fKwBxHM2MK3p1HJ9aZrzD/hOvDHy87Lr+SUAdXto206igBu2uT8Kn/ir/ABf/ANfEH/okV11ch4VB/wCEw8Yf9fFv/wCiRQB19FJmjIoAWikyKMigBaKKKACs/wAQf8gO/wD+uD/yNcl4e+O/gDxT4h1DQdN8V6ZPrVhM1vc2H2hVmjdeoKk5rqtfmRtCvip3AwPgjvxQBV8ED/ikdI/69k/lW3trE8Ctu8H6Qf8Ap3X+VbtADdtcn4+DeZoQA4+3oT+Rrrq84+Nnh+fxPoul6bBqVxpX2i9RJLi1x5mz+IKexI4zQBieJvGGrfEbWrjwl4IuTbwREpq3iBBlLUd4oj0aQ/pXoPgfwPpfw/0GHSdJt/Kt4/meRjmSVzyzu3VmJ5JNT+FfC2l+DdFt9K0i0W0s7cYVV6se7Me5PcmtqgBu2nUUUAFFFFABRRRQAUUUUAFFFFABRRRQAUUUUAFFFFABRRRQAUUUUAFFFFABRRRQAUUUUAFFFFABRRRQAUUUUAFFFFABRRRQAUUUUAFFFFABSYFLXxv+29+35ffsl6hbaRa+BLjWLy/h8y01S6m8uyz3XgEsw9MigD7ClZMFT+Ncr8L8L4dcDp9tu+n/AF3avy5/Zx+Mfx5/4KE/GBNL1vxNeeHvhxp7C61i18Pf6FG0QbIg8xfnJc8cseMmv1C+FNnDp/hcWtsnl28F1dRxrknaomYKM/QUAdpRRRQBxXxkj1Sb4d6smjXFna6gUHly30LSxDkZyqspP5iuUtdD+Nn2WHZ4t8Ghdi4B0K49P+vmu6+I/wDyJuof7o/nW/Zf8ecH+4v8qAPK/wCw/jd/0Nvgz/wRXP8A8k0f2H8bv+ht8Gf+CK5/+Sa9booA8k/sP43f9Db4M/8ABFc//JNH9h/G7/obfBn/AIIrn/5Jr1uigDyT+w/jd/0Nvgz/AMEVz/8AJNH9h/G7/obfBn/giuf/AJJr1uigD4S/4KG6P8UYP2U/Fr+IvEfhm+0wGHzLew0maCVvn42u07Ac+1fAv7J/w0/a01Ca1u/haniTSNJZgy3V/L5GnsPXE3yMP90Gv3b1XR7DXbQ2upWNvqFqSGMN1EsqEg5B2sCOKswwx28aRxIscaDaqqMAD0AoA8B+Dek/FvR9Y8NRfFnW/D+s6z5E+xtDtpIwPk53uxAJ/wB1QK+gK5LXB/xcXw1/1xuf/Qa66gAooooA5DwaobWPE6sMg3YyP+A14h4m/Za8RahdeKLvTdcsLW6mukl0JmV/9EjZszh/l4Lc4xmvb/Bn/Ia8Tf8AX4P/AEGusoA8EuPh83hnxveaLBmKz8QeE/7GtbtlPlpcQqw2sRyAVct+BoXwzrd6nwt8KanaQxalozC8vZLWUzRJHCnlo28qvLk9MZFe9qo3ZxzjFKqhelACjpS0UUAFFFFABRRRQAUUUUAFI3KkdKWigD5O+N1j4gXx5qXhjSZ9Rit9WRNbS4gLkRGAZePI4G7HTvUfhO+1DxRe+BPFGspcQ2uua4Xe3uQyiPZGVjBU9MsCelfWPljcTjBNZPifwrp/izT0tNQhLxpIsqMjFXR1OQysOQc0AfMTaboek+CfjvbQ7IdX+3vO0LFt4yEMTDPq3QjvXu1u07a34E+1FjdfYJPNJ/v+Wm79c10fiLwhp3iq2gttRSSW3injuTEHIWRkOVDj+IZwcH0rP1xcePPDPHGy6/8AQVoA66iiigArxG28H+PNQ8feNJNN8ew6Xam6hMcDaOsxVTF03eYM4+le3VyfhUZ8XeL/APr4g/8ARQoA5P8A4V78Tj/zVC3/APBAn/x2j/hXvxP/AOioW/8A4IU/+O16xRQB5P8A8K9+J/8A0VC3/wDBCn/x2j/hXvxP/wCioW//AIIU/wDjtesUUAeUj4e/E7/op9v/AOCBP/jtI3w/+JnQ/E+3I9P7BT/47Xq9JigD8DviP+zH8aPit+0t41bwh4f1fXrmPVpUfXLa3Nlblt33vMYhV/76r9Bf2Y/2Zv2kPhjorSeOfi7C2kJCzNoLRHUnK7fuGZ9uz/gJYV91LEirtVQq+gGKo66qrot9x/ywf+RoApeA/wDkTdH5z/oyc/hW9WB4Cx/whukY/wCfdf5Vv0AFch8QZo4ZNCMjqgN+gG44ycHiuvrzn42eFdN8aaLpmk6rHI9tPeph4XKSROMlXRhyrA85FAHoS1JXj/hfxxq/w51u18IePLgTxXDeXpHiVsLHeDtFN2SbHfo31r1/cKAFooooAKKKKACiiigAooooAKKKKACiiigAooooAKKKKACiiigAooooAKKKKACiiigAooooAKKKKACiiigAooooAKKKKACiiigAooooAKKK8p8XfFbUNW1qXwr4Agi1XXkO271GQZs9NHcuw+8/og/GgDo/iF8UtK8AWsaSCTUtYuDstNJsxvuJ2PQAfwj/AGjxXhHxo/Zdk/aa+H+py/FPUf7LumheTSrK2m22+kNjiR2/jfHUnjGcV7h8PfhXY+DXm1G7nk1rxJdnfd6vdcySN6L/AHVHYCuT/a38A6P8R/gjr2k65ruoeH7Dy97XOmylJGYfdTA+8CeNvegD84pP2jNJ/Zt8K6T+z98B7yHVPFmqXsdrrHjKJAVNzKwQiH1K5wG6DtX6ifA/T5NH+H1lp8sjyyWss0LySNuZmWRgST3JOa/LX9lD/gn/APED4a/tXeBNW8UaSz+F4RJq8WofeQbVJjST+7JuKnFfqR4bm17wzZ3Fk3h+W7Iu7iVZo51CsryMwIB9iKAPQaK5X/hKNc/6Fe4/8CEo/wCEo1z/AKFe4/8AAhKAJPiP/wAibqH+6P51v2X/AB5wf7i/yrh/FGoeIPEGiz2EfhqaJpsLva4TC89a7q2jMdvEjcMqgH8qAJaKKKACiiigAooooAKKKKAOR1z/AJKJ4a/643P/AKDXXVyninS9Vk8Q6PqmlwQ3JtFlSSOZ9nDLjINI2peLu2jWX/gVQB1eaM1yX9peLv8AoDWP/gVR/aXi7/oDWP8A4FUAHg1SuteJQev2sf8AoNdZtNc34N0vUrKXVLrU4oYbi8n8wRwvuCgDHWumoAaop1FFABRRRQAUUUUAFFFFABRRRQAUUUUAFJS0UAJtFcjrjH/hPPDP+5df+grXXVyfizStVm1jR9S0qGGeSz85XjmfbkOAAQfqKAOtork/7T8X/wDQGsv/AAJo/tPxf/0BrL/wJoA6yuT8K/8AI2+Lv+viD/0SKP7T8X/9Aay/8Cak8G6XqlrqGt32qQw28t9NG6RwvuACoF6/hQB1FFFFABRRRQAUUUUAFZ+vf8gW+/64P/I1oVV1S1a8065gQgPJGyKT0yRQBleAsf8ACG6R/wBe6/yrfrg9BXxdouj2lgNKsZPs8Yj3/acbsd6vf2l4x/6A9j/4E0AddXmXx28WR+CdD0jV57WW6tYNRh87yusaE4Ln2Het/wDtLxj/ANAex/8AAmszWtH8ReLmsrPVNNsodOEpa4xNv3JggjH40Ab/AIg8P6J8RvC8ljqEMeo6XexBh3BBGVZT2PcGvOvDvizVvhDq8HhnxncNeeH5iI9J8Szfw+kF03Zh0Dng96sfB68ufBut6t8PNTlLvp5N1pUsh5ls2PCj12E4r0vWtDsfEemXGn6lax3llcIUkhlXcrA0AaKSLIoZWDKRkMvQ/Sn14fZ6lqf7PeoRadq8k2p/Du4kCWWqOS8ukMTgQzHqYugV+3Q17ZBcRXUKSwyLLE6hldDkMDyCDQBJRRRQAUUUUAFFFFABRRRQAUUUUAFFFFABRRRQAUUUUAFFFFABRRRQAUUUUAFFFFABRRRQAUhIHXilqlrR26NfkdRBIR/3yaAJP7Rtc4+0xZ/3xS/2ha/8/MP/AH2K4jwb4F0C88NadcT6TbSzSRK7u6ZLE9SSa2/+Fe+G/wDoC2f/AH6FAG5/aFr/AM/MP/fYoXULWRwi3ETOeihxk1h/8K98N/8AQFs/+/QrnfGHhPR9Fk0G4sdNt7WddXtcSRJhuXwRn0waAPRqKarGnUAFVtQ1K10mxnvLy4jtbWFS8k0rBVRR1JJrA8ffETRfhzo41DV7rb5jiK3tYl3z3Uh6RxoOWY+grz7T/h/rfxdv4ta+IMTWGhRsJLHwej5XjlZLxh/rG7+WPlHfJFAEU3iDxH8eLj7P4bluPDngQZWfXtpS51IZwVtQfux4yPMPX+H1r1Dwn4Q0rwPosOlaLZpZWcY+6vLM3dmPVmPcmtm3t47aFIokEcaKFVFGAoHYCpNtACKa8Wuk/wCF1/E77KD5ng7wvOGuP7l7ejkJ7qnU++K6L4yeMrrS7Ox8NaE2/wAUa+zW1oqnPkR/8tJ29Ao/Wum8B+C7LwD4VsdFsAzRW6fPK/LSyHl3Y+pOTQB0O0UBcN1paWgAooooAKKKKACiiigAooooAKKKKACiiigApGpaKAGUU+igAooooAKKKKACiiigAooooAKKKKACiiigAooooAKKKKACk20tFABRRRQAUUUUAFFFFABRRRQAUUUUAFFFFABRRRQAUmM0tFAHlvxw8O30djYeMdBhMmv+HZPtCxr1uLf/AJaxH2K5x713PhjxFZ+LNAsNZ09/Msr2FZom74I6H0IPB+la7qsiMrAMrDBB7ivHPh/v+F/xL1LwPOxGiat5mq6G7ZCq2cz2w+md4HoWoA9a1DT7bVrGazvII7m1mUpLDKoZXU9QQeorxhW1H9nW92yGbUfhrM+FdiZJtFZj0P8Aeg9/4fpXt9RXNvHdQvDNGssMilHjdQVYHggg9RQA3TtSttWs4rq0njubeVQ8csTBlYHoQatV4beWGpfs93smo6PBPqfw7mcveaZHl5dIJPMsQ6tF6qOV7V7Lo+s2PiDS7XUdNuor2xuoxLDPC25XU9CDQBdpCwUEk4FLWF45vZ9N8IavdW0hhuIrZ2jkUAlTjqM0Abm4etJuHrXFWfgSa4s4JG8Ua9udAxxPF3H/AFyqX/hXsv8A0NGvf9/4v/jVAHYbh60oYHoc1x3/AAr2X/oaNe/7/wAX/wAarPuNIuvC/iTw+Ytd1O+jurhopYb2RHQjy2PZAc5A70AehUUUUAFFFFABRRRQAUUUUAFFFFABRRRQAUUUUAFFFJuHrQAtFJuHrQWA6mgBao65/wAgXUP+veT/ANBNXcjpmqWtkHRdQxz/AKPJ/wCgmgDL8B/8ihpX/Xuv8q6Kud8B/wDIo6V/17r/ACroqACuR+In+p0P/sL2v/oyuurj/iRIsNroruyoi6talmY4AAfJJPpxQB1u4Z61wPxC+LUPhW+j0LRrNvEfi26TNvpNu2PLB/5aTv0jjHqeT2zXO6t8Qtb+KN9Nonw8kFvpsbGK/wDFUiZjj5wyWwPEj9t33R712vgP4b6P4BtphYxPLfXB3XV/cnfcXD92dzyTQBzvw9+FNzY60/i3xjeLr3jCcELJt/0fToz/AMsbZT90erdTXp6qFptPoAKoa5rVp4d0q61K/nW2srWJppppOAqqMmrrNivGPGF0/wAYPiF/wh0DE+F9CdbjXJFHy3M+cx2ufReGYeuBQBf+EOi3nijWdT+ImtwPBe6soi021kHNpZD7g9mb7x+tesjgY60yCNIYUjjUIigKqjoAO1SUAFFFFABRRRQAUUUUAFFFFABRRRQAUUUUAFFFFABRRRQAUUUUAFFFFABRRRQAUUUUAFFFFABRRRQAUUUUAFFFFABRRRQAUUUUAFFFFABRRRQAUUUUAFFFFABRRRQAUUUUAFFFFABRRRQAV518avBt54o8Lx3mj4TxHos66npkh4zNGc+WT/ddcofZq9FpKAOe+H/jKz+IPhDTNescpDeRBmib70MgJWSNh2ZWBU+4rodteMaezfB/4vNYnEXhPxlI0sPUJa6ooy6jsBMvP+8nvXs9AEUkKyKVYZUjBHqK8V1TR9V+AevXeu+H7WXU/Ad9L5up6HCuZNPc/euLZR/CerR9+o5r3CmSIJEKkZB4IIzmgCnoeu6f4k0m11LTLyG+sbpBJDPC2VcH0/w6joay/iLz4F1zHP8Aosn8q+Ef28P2mIv2OL99K+HN81p4i8QQySXGktGWtrQuCBdx54WTIxgcHuKm/wCCfn7Wd/8AHn4BeLPCnijU5L/xh4etpH+0TvmW7tZCSrk9ypJUn020Aff+lf8AIOtf+uS/yq3VXS1xp1rknPlr1PtVugBK5Lxd/wAjL4V/6/T/AOi3rrq5Lxdz4m8K/wDX43/op6AOtopnmp13L1x17+lZGt+LNP0C5s7e6lxPeSGOGNeSxAyfwAoA2qKx9F8W6Tr2kf2pZX8MlhuZPPLBVBBwRk+9R+KvGej+CdGn1bWr+Gw0+FdzTSMBn2HqfpQBuUVgQ+ONJnvNHtRcYk1eEz2RZSBKoUNwfXBzit4MG6HNAC0UUUAFFFFABRRRQAUUUUAcf8VPFV74J8KHWbOBJ1t7mH7Sr9oGcK7D6A5/CvJNL/aRvtb1zU9NtLKAOdTjh0wkk/abUgl5Pwwfzr3rxDotr4k0S+0m+QyWd5C8Eyg4JVgQcHsa4Pw/+z/4R8N6r4c1GytpxdaDZtY2jSS5BjbqXGPmb3oA8ll8UeK9WXwhrenamls2ueJHjnimBK+SmQqAenFdtN8ZtbX4zReGv+EZ1RrH7IzYEa4LBwBKD/dxmtHSvgmXs30u9upra007Vm1LSryzlCyJuOSrAg8dRXqK6NZjUF1AwI1+sXk/aWHz7M5Iz9RQB48ieILH9prT0vdce70280i7kttORdkUAV4wCf7ze9avhHU7qz8QfEnwtNO89vp+Lu2eQ5ZY54i+zPsc/ga7m68Eabe+NLDxRKJf7UsrWS0iIfCbHKlsjuflFcx4d8H3ujz+ONe1XZ/aOsM5CRvuWOCOMpEufXAz+NAHTfD9f+KP0o5z+4X+VdHWD4FUL4R0oDtAv8q3qACvPPjX4dsvFnhvT9I1GNpbG81SzimRHKFl8zJGRzg4x+Neh1x3xI/1Ghf9hiz/APQzQB0Wj6RZ6DptvYWFtHaWcChI4YVCqoHYCrlKtOoAZT6Kq6jqEGl2c13cyLDbwo0kkjsFVVAySSenFAHF/GDx5P4N8OxW+lRi68TatKLHSbX+9Mw/1jD+4gy7H0HvVz4ZeAYPh/4Xt9NSRrm6Yme8vJPv3M7cvIx9Sc1x/wAK7Gb4j+Jrz4k6rCy2zo1l4dtpOsFmDhp8Ho8xAP8Auha9hoARadRRQAUUUUAFFFFABRRRQAUUUUAFFFFABRRRQAUUUUAFFFFABRRRQAUUUUAFFFFABRRRQAUUUUAFFFFABRRRQAUUUUAFFFFABRRRQAUUUUAFFFFABRRRQAUUUUAFFFFABRRRQAUUUUAFFFFABRRRQByHxS8Cx/ELwbeaQX+z3RxNZ3S/et7lDuikB7YYfkTVT4P+OX8b+EklvIxb61ZO1lqdr0MVyhw4x6HqPYiu4avG/FAX4U/FK08TplNA8SOmn6sBwkV0OIZ/bd9wn/doA9mopAQwBByKWgDz/wCKvwI8CfGrSpdP8ZeHLLWY3UqsssYEsfur9Qa+ItY/4Jz6p+zj45b4j/BvxE32O3R49Q0DU2/1lo+fNRXHXjkZ9K/R2ua+Ii/8ULr/AP15yf8AoNAGxorFtJs2KlS0Skqeo4HFXaq6V/yDLT/rkv8AKrVABXI+Ll3eJPCwzg/bG/8ART111cj4vOPEvhX/AK/D/wCi3oA+aPiZceJtC8da9pGnnUPsfh27PjBGj3MJ4WCqbcHv8287fcV0nw7s7y98a6Fd62JWk1rRLzUY4585SSWTJQZ6EIVGK+nfLV/mIGSOuB09Kxtb8H6druoaXf3COl3psplt5Im2kZGCp9j6UAfL/hf4f6t4h+AFzp3g/U5bG6ivJlvLFI9zSP5ueS3QgeletePfATT/AAS1KDxAw8R6na2TyQyzQgMj7MDCjuK9dht44M+Wix7jk7FAyfU1KyhuvIoA8G8ZRzQeBvhA0CldVj1LS1hUjDBSgEo+mzdmvd41AXgYrGv/AAlYal4k03WbkPLc6eri2Qt+7QsMFsf3scZ9zW5QAUUUUAFFFFABRRRQAUUUUAIeaTbTqKAG7aWlooASqGur/wASPUP+veT/ANBNaFVtStPt+n3Ntu2edG0e70yMZoAy/A//ACKel/8AXBf5Vu1wul6L4r0mxgs4r/SXihXYrSWzbiB6/PVz7L4u/wCfzR//AAGf/wCLoA66uO+JH+o0L/sMWf8A6Gaf9l8Xf8/mj/8AgM//AMXVPUPDfiTXJtNS91DTVtbW9hu2W3gZXbY2doJcjnjt2oA7hadSDgUtABXjnxKupfih4ytfhzZSbdKhCXniOeNukGcx2uf70pGD3C59RXYfFbx8nw/8Ltdxxm71W5cW2nWSjLXE7cKo/mfYVX+E/gE+BfDbi8l+2a9qUpvdUvD1luG6jP8AdUYUDsBQB2dvbR2sMcMKLFDGoRI1GAqgYAHtip6bT6ACiiigAooooAKKKKACiiigAooooAKKKKACiiigAooooAKKKKACiiigAooooAKKKKACiiigAooooAKKKKACiiigAooooAKKKKACiiigAooooAKKKKACiiigAooooAKKKKACiiigAooooAKKKKACiiigArC8beEbLxx4V1LQtQQPa3sLRtxyjdVce4OD+FbtFAHmvwR8U3moaPe+HdbbHiPw9L9hu93/AC1UD93MPZlweK9Krx34sQyfD7xZpXxDsome2j22GtxxjmS2Y/LJx3Qn8jXrlrcR3UEc8LiSKRQ6OvRlIyCPwoAmrnfiJ/yIuvf9ecn/AKCa6KsXxpp9xq3hPVrK1VXubi2eONWOAWIwBntQBoaX/wAg21/65L/KrVcXaeIPEtvZwxP4UO5ECnF+mOB/u1J/wlHiP/oU2/8AA5f/AImgDsK5Dxh/yMnhb/r9P/ot6F8UeI8/8im3/gcn/wATVGX+3/EXiTRZbjQhptpZztLJK10sh+4wAACjuR3oA7tPur9KdSKMKBS0AFFFFABRRRQAUUUUAFFFFABRRRQAUUUUAFFFFABRRRQAUlLUF9cizs57gjIijZyPXAzQBNtHpRXE6f4n8SatYxXdv4ehaCZd6F7xQSD0qx/a3iv/AKF23/8AA1aAOuorkf7W8V/9C7b/APgatVrrxdrmlXFgNS0SKC3ubuK13x3IcqXOAcUAdxTJpkt4ZJZXEccalmdjgKAMkml35ryP4uaxceNtcs/hxosrRz3yi41e6jPNtZg/dz/efp9M0AVvAdvL8V/Hs3jm7VjoWls9poUDj5ZD0kucep6D2r2Squj6Ra6Hpdrp9lEsFpbRrFHGowAoGBV2gBlPoooAKKKKACiiigAooooAKKKKACiiigAooooAKKKKACiiigAooooAKKKKACiiigAooooAKKKKACiiigAooooAKKKKACiiigAooooAKKKKACiiigAooooAKKKKACiiigAooooAKKKKACiiigAooooAKKKKACiiigCjrGk2+uaXdafdRrLb3MbRSI4yCpGDXmXwX1i68O32p/DzV5C17op32Er9biyY/Ifcr90/hXrdeUfGrRbnSW0zx5o8Rk1bw+xeaJetzaH/AFsfvxyPcUAerUtZ2g67aeJNHs9TsZBNZ3cSzQyD+JSMg1Nq2qQaLptzf3TbLe3jMsjAZwoGTQBao2iuRj+JFrKqsmmamVYZB+ytT/8AhYdv/wBAzUv/AAFagDq8Utcl/wALDt/+gZqf/gK1TWPj2yvNUtbF7a8tZbolYmuICqswBJGfXAoA6eikU7lBpaACiiigAooooAKKKKACiiigAooooAKKKKACiiigAooooAKoa9/yAtR/69pP/QTV+qGvf8gPUf8Ar2k/9BNAGb4F/wCRS0v/AK4L/Kug2j0Fc/4F/wCRS0v/AK4L/KuhoATaPQVyHxGH+j6JgY/4m9n/AOhmuwrkPiNn7PoWOSdYtB/4/QBN8RPG9p8O/CV3rFyhndMRW9sn37iZjiONfUkkfrWH8G/A914b0m61fW28/wAUa1J9r1CXrsJ+7EvoqDgD2rm9BkHxq+JT+IGy/g3wvO9rpanBjvr0fLLcD1VOUU+oYjrXtGB1oAWiiigAooooAKKKKACiiigAooooAKKKKACiiigAooooAKKKKACiiigAooooAKKKKACiiigAooooAKKKKACiiigAooooAKKKKACiiigAooooAKKKKACiiigAooooAKKKKACiiigAooooAKKKKACiiigAooooAKKKKACiiigAqG5hW4iaN1V43BVlYcEEdKmooA8d+GN03w68far8OrttthMG1PQHY8GEnM0APqjEED0b2rvfiMw/4QPXf+vOT+Vc58bvBt9r3h+11nQNqeKfD841HTS3HmMoO+En+7Iu5SPcV5/rP7WXwz8YWsHg7TvEcFx4u1vSprhNHhBkltiiEvHMVGEdSGXaTn5TxjmgD3zSm3aba+vlr/KrWD61U0fnS7U9jEv8qu0ANwfWuU8X5HiTwr/1+N/6LautrkvGH/IxeFf+vxv/AEW9AHWL90UtNT7q/SmTXUVvjzXWME4BYgZPoPWgCWimrIHGQc1De6hbabCZbu4itou8k0gRfzJoAsUVDHeQysipIrM671AYElfXr0qagAooooAKKKKACiiigAooooAwPGnjC08EaTDqN9HK9s9zFbM0QB2GRgqsc9skZ+tcjH8fPDVzeavbQm5km0vUU02VVUfPI/IKc8rjJz7V1vj7wsvjbwdquiNJ5LXkJSOUjPlyDlG/BgD+FeNeE/2Ybrw94k8Lapca0lylhasNSj8s/wCmXJyFl9sAmgCa++Putpc6Je2OlSX+k6zrjadAsaLuSFOGbJPUn9K6+T49eFofiB/wip1O1E5tzIZDPgiQMF8vGODz69q4fRPhtrs2j6Zo9r5VrqXhfXXu0a7RvKuIWJIII9jXqbfC3RZPGa+KGtYf7SFqbcr5a7Mkht3TrkdaAPPtY8dePfCvjTw9/al9pssWtaqbOPw1bW+Zktef34lznKgBjxjnFdZ4f8ZXusN430HVNp1HRWkQSIABJBJGXicj1xwfpXHeD/hR8RtB+Il94k1TVvD2qNe3WZLiS1lNxFbZ4hiJbCgD0HJrd8J6RdXHiH4j+KbiF7eDUB9jto5F2kxQRFd/0JJoA77wG3/FI6X/ANcF/lXQVz3gP/kU9LI5HkL/ACroaACvMvj/AKHfeJ/Bdto+nai2kXd9qNrbi+jXc8KtJhyvo23IB7ZzXptcf8Rv9ToX/YYtP/QzQBseGPDNh4R0Kw0fS4FtrGyiWGKNewA6+5PrWxUa1JQAUUUUAFFFFABRRRQAUUUUAFFFFABRRRQAUUUUAFFFFABRRRQAUUUUAFFFFABRRRQAUUUUAFFFFABRRRQAUUUUAFFFFABRRRQAUUUUAFFFFABRRRQAUUUUAFFFFABRRRQAUUUUAFFFFABRRRQAUUUUAFFFFABRRRQAUUUUAFFFFAHmn7RHwv1f4xfCfWvC+h+J9Q8I6neRkQ6lp0pjYED7jEclG6EAjg1+F/hDwR4y/ZX/AGsPD2meLrOTT9Si1EW7TMSY7iKUmMyI/wDEpDH+tf0NHmvCP2tP2d/Cvx0+HVw2sWixazo4+26bqkQAntpUIYYb+6ccigD2/TeNPtsdPLX+VWaoaD5g0PTxKweUQIGYdCdo5q/QAVyXjDP/AAkPhbHX7Y3/AKKeutrk/F3/ACMfhX/r9b/0W1AHhnjb4/eKfB/ia40IzRTT6XrTXGoSGFRjRyAVbpwQTt3e1XPDfi/V/iV4y0qTUbrZZNY3urabsULhS5SI4HDEKM8+tezat8MfDGvalqOpX+jW91falZDTryZ15mtwchG9Rms68+GFta6z4YvtDWHTl0aJrIW+35GtSB+7wPQjIoA8K0bxN468Hfs7i60gSa3ctcSs99NOIJLf97jACqd2fXNdv49uNI1Lw34f1fx/oIvNZ5i0/wAOxzfaUu5WQAEqQATyTkjivV/DPgHRfB+n3NjpVitvaXEzTyQsS6lmOSQD057Vl+Pfgz4Q+Jd3YXXiHSI9QubEEW0jMQY88HGKAPJLXw7qfwr8IfDm9unCanD4gS2e0t3LrBbXchVrZcn5gilce619IjmvOofg3p9jd+GLWwC2nh3RLh75bDJYyXGMRsWJ6Lkn6gV6OOKAE206iigAooooAKKKKACiiigApKWigBm2lC06igBDWfrq7dC1LA/5dpP/AEA1o1R14btD1EDr9nk/9BNAGd4CG3whpf8A1wWt+uO8E+JtJg8K6ZHJqVqjrCoKmZcj9a3P+Eq0b/oKWn/f5f8AGgDVrj/iN/qdC/7DFp/6Ga2/+Eq0b/oKWn/f5f8AGuW8da7puof2FDbX9vPL/a9qQiSqScP2GaAO6WpKjWpKACiiigAooooAKKKKACiiigAooooAKKKKACiiigAooooAKKKKACiiigAooooAKKKKACiiigAooooAKKKKACiiigAooooAKKKKACiiigAooooAKKKKACiiigAooooAKKKKACiiigAooooAKKKKACiiigAooooAKKKKACiiigAooooAK5z4hL/xQ+u8f8ukn8q6Oud+If8AyI+ud/8ARJP5UAa+k8aXaf8AXJf5VbqnpbAabajBz5S9varW/wBj+VADq5Pxd/yMnhX/AK/G/wDRb11W/wBj+Vcn4tYHxP4UH/T43/op6AOpj+4PpT160iDgCnYoAMUbRS0UAJS0UUAFFFFABRRRQAUUUUAFFFFABRRRQAUUUUAFNkUMhUjIPBB706igDHHhDQ++kWX/AH4X/Cj/AIQ/Q/8AoD2P/gOv+FbFFAGP/wAIfof/AEB7H/wHX/Cnw+FtHtZ0mh0u0ilQ7ldIVBB9QcVq0UANwadRRQAUUUUAFFFFABRRRQAUUUUAFFFFABRRRQAUUUUAFFFFABRRRQAUUUUAFFFFABRRRQAUUUUAFFFFABRRRQAUUUUAFFFFABRRRQAUUUUAFFFFABRRRQAUUUUAFFFFABRRRQAUUUUAFFFFABRRRQAUUUUAFFFFABRRRQAUUUUAFFFFABVbUdPg1awuLK6TzLa4Ro5E3FcqRgjI5H4VZooA5Bfhjp0ahV1LXFVRgAavcYH/AI/S/wDCtNP/AOgprv8A4N7j/wCKrrqKAOR/4Vpp/wD0FNd/8G9x/wDFVJp/w903T9Ut74Talcz25JiN3qEsygkEZ2sxGcGuqooAaAadRRQAUUUUAFFFFABRRRQAUUUUAFFFFABRRRQAUUUUAFFFFABRRRQAUUUUAFFFFABRRRQAUUUUAFFFFABRRRQAUUUUAFFFFABRRRQAUUUUAFFFFABRRRQAUUUUAFFFFABRRRQAUUUUAFFFFABRRRQAUUUUAFFFFABRRRQAUUUUAFFFFABRRRQAUUUUAFFFFABRRRQAUUUUAFFFFABRRRQAUUUUAFFFFABRRRQAUUUUAFFFFABRRRQAUUUUAFFFFABRRRQAUUUUAFFFFABRRRQAUUUUAFFFFABRRRQAUUUUAFFFFABRRRQAUUUUAFFFFABRRRQAUUUUAFFFFADWYIpZiABySa4Ob47/AA+t9cOjSeNNCTVN2z7Kb+MOG6Yxnr7V5r+3Z481XwL8BtQfR7iSzu9QmSyNxH95Fc4bB7cVyvhP9hn4YeJPgnp+ny6NHFrV7ZJO/iBWZrpZ2AbfnPPJ6dKAPpXxJ440DwbYRXuu6zY6TaSMESe8uEiRmPQAsQCax9I+NXgPX7+Ox07xhod7eSHCQQahE7sfQANk18d/tt+Aj8M/2ZfA/hm/1S68URafqsURubyMedMgDfJhR6ZA9q8Q+MWpfCnVPDOlWXhD4Tax8OdflurYL4n1OCe1t4BnlmYgk9sYHNAH6uanqltpFjLeXlzDaWsI3SzTuERF9STwK5Dw78dPh/4s1VtM0fxnompagDt+zW97Gzn6AHmvk/8Aagu73xv4u+DPwtuNWkudB1eKOa/u7eTi9AGM7u4IH610P7Tn7I3w38H/AAX1HX/C3h+Hw9r2gQi5tdQs3ZJGK/3jn5iaAPrCTxpoMPiGPQZNZsU1uRPMTTmuEE7L6hM5x+FV5/iF4atfE0fh2XXtOi12TBTTXukFw2emEzuP5V8C3njS6/4SL9nf4s6g3+kXK/2bqM7cFuwJ+orhfG2panrHxg1v46Ws0jaZoni2202LacDyRhSwPp+PegD9PZvGWhW/iKLQJdYsY9cmTzY9Na4UXDp/eCZ3Ee+K2a+MvhDJF8Wv26vHvi2JvO07w7p0On2kvVSzovI98bq+y412qBkn3NADqKKKACiiigAooooAKKKKACiiigAooooAKKKKACiiigAooooAKKKKACiiigAooooAKKKKACiiigAooooAKKKKACiiigApksqQxtJI6oijJZjgAU+vPP2gPDGt+Mvg94o0bw7N5Os3dm8duQ+0s2Pu59xx+NAD4fj58OrjXv7Gi8caDJqe/wAv7Mt/GX3f3cbuvtXUax4w0Pw7PYQaprFjp01+/l2kd1cLG07f3UBPzHkdK/LiJfhXofw+g8DfE34Ya18NvE8QVG8YWlo07iYN/rMsMEEDnBIr179p7VtG8I6b+zxqL+JJNe0PTrkSnXJFBeaFAp3kLxnAHFAH37NMkMLyuyoiAszMcAAckmszw74s0fxZaPdaLqtnqtsjmJprOdZVDjqpKk8+1fPPwU+N/i/49L4q8SJYabp/w8tUmgsI5EL3V5tU5Zzu+VfbGea8p+HXx2v/AIe/sqeKvGHhrw7oui3lnrUkQs7SBxBJ8+CxBbO4/WgD7y3DOM80tfFGt/tLfGr4f6X4W8feK9B8O/8ACC6vLDFLZ2Zf7XAsnAcsTjnqBX1mPiL4Yj8hJ/EGl2txOiSR2897GkpDgFfkJByQRxQB0eaM18gzftEfFr4pfFHxdY/DDSvD/wDwjPhGZre7bWBIZbyReqoynC5wcVl+HP2vvG2qfs9+PPG91Y6Vba3oeofZYoFiZo1AOCGG7JPvmgD7R3LycjFLuB6Gvkr4dfGD4++JvBuq+Mb3wh4ffTJ9PWbR7NbkRO0h/jlZjhV74rkfCP7VnxI8PfGLwl4X8Yar4J8Q2viCZYJYPDUhaXTmY4Adw5Vv60Afce4ZxnmjI9a+ONQ/aE+MPjH4tfEnwP4H0/w5GPDLeamoaokh2RBcldoPzMxOB0AxXG2H7XXxu8XfCK88daXonhqz0vw7J5OqNcCRmu3VgG8tc4UD6mgD76orkfhP44PxI+HuheI2gW3fULVJ3jU5CsRyB7V11ABRRRQAUUUUAFFFFABRRRQAUUUUAFFFFABRRRQAUUUUAFFFFABRRRQAUUUUAFFFFABRRRQAUUUUAFFFFABRRRQAUUUUAFFFFAHnXx++EVp8bvhnqnhe5m+zSTgPBcYz5cg5U/nXzJJ4b/ait/Af/CtY9L0P+zRF9iXxNFcMJhB0zt9ce1fb9LQB8afHv9mnxpcfs6eCvB3htZPFmuaTfxXNzNeXO0vgEsdzZ4zgYrE+JOlftI/GjwFL4G1H4d+HdB068SOGS/W78x41UjkDt07V9zUUAfI/xe/ZN8QXPw9+Hlz4P1JT428D26JbNcfcudoGVz256fWuW8cf8NG/tAeG08Dan4P07wfp90yx6nq32jfvQddo56+1fcBXNJtoA+U/2hP2X73Vv2adG8FeDLZbzV9C8prUs4jLsPvHJ6E81S8K/st6ta/sXan4Dv7KP/hLL6OS7ZTID/pW7KfN+A596+udtLjjFAHzD+wl8DfEnwf8B6zL4wthbeItWvvOmQyCRgiqFXLD15NfT9IFxS0AFFFFABRRRQAUUUUAFFFFABRRRQAUUUUAFFFFABRRRQAUUUUAFFFFABRRRQAUUUUAFFFFABRRRQAUUUUAFFFFABRRRQAVwnxs8E6p8QfhrrWi6Lq82i6rcRf6NeQsVKOORkjnBxg/Wu7pDzQB8F+Io/2jvF3wvn+GGrfD3SdSlmtvsL+Irm6D5jzjzMH+LHetT4i/sieIrrwL8EfCUVjF4hsPDlwRrDNN5ahGKs2AeWHUcV9vhaXHegD5Q+F3wT8W/BP4neMtE0DS/tHw21+3kntf34H2K4KEbAp7Zrxzxl8LfE/wp/Yp8Z6X4lsk06/m1j7RGiSiTKNJw2RX6J1y3xI+G2h/FbwtceHvENsbrTJ2VpIw23ODkc0AfFeo+D/jR8evhn4H+H2o+GLDTfD8JtbqbxEt1uWWFOV+TqGxivo/xF+x/wDC7xh4mtfEWs6A17rNuluguvtMqZ8lVCHaGA/hHavXtB0O08N6NZaXYoY7OziWGJCc4VRgCr+2gD4K8N2/jD4R/GL4l2Xw1vPDHiDSNZunuLpL29MU+lyHOS6HBbB3dK5D4KeAfE3xK/ZY+Kuh6NAuqazea23lqrhI5HDZYqx7V9Z/EL9jb4b/ABG8VXXiK+0+5s9Uuzm6lsLlofPOMfMFPNelfDv4a+HvhX4ag0Hw1p6adp0XIjTklj1YnuTQB4N8Xfg3418S/sj6R4Q0Vfs/iKztYFubITbRNs5aLcOxrxTRf2f/AIhah4v+GOsWPwr0jwfp3h+9ie9hs7hftFxgjdM7Y+bocDrzX6F4oxigD5g+EPwd8XeGf2gvjT4j1PTUg0fxCmNNuFmDGY4xyv8ADXE+A/2efHehfsjfEDwVeaKq+IdTvLiaztVuVPmKzgqS2MDivtXGaWgDzn9nrwrqfgn4O+FtE1i2+yalZ2SRTxbwwVgORkda9GoooAKKKKACiiigAooooAKKKKACiiigAooooAKKKKACiiigAooooAKKKKACiiigAooooAKKKKACiiigAooooAKKKKACiiigAooooAKKKKACiiigAooooAKKKKACiiigAooooAKKKKACiiigAooooAKKKKACiiigAooooAKKKKACiiigAooooAKKKKACiiigAooooAKKKKACiiigAooooAKKKKACiiigAooooAKKKKACiiigAooooAKKKKACiiigAooooAKKKKACiiigAooooAKKKKACiiigAooooAKKKKACiiigAooooA//2Q==)\n",
        "\n",
        "The embedding is based on the surrounding words (before and after) taken as context. In the case of CBOW, we input the surrounding words to our neural network and expect that it predicts the middle word. Let's format our dataset to meet the needs of the neural network.\n"
      ]
    },
    {
      "cell_type": "code",
      "execution_count": 33,
      "metadata": {
        "ExecuteTime": {
          "end_time": "2024-10-24T21:21:35.871734Z",
          "start_time": "2024-10-24T21:21:34.959608Z"
        },
        "id": "1OkVuGeFQ9Bk"
      },
      "outputs": [],
      "source": [
        "def generate_dataset(data, window_size,word_to_index):\n",
        "  \"\"\" Method to generate training dataset for CBOW.\n",
        "  Arguments\n",
        "  ---------\n",
        "  data : String\n",
        "     Training dataset\n",
        "  window_size : int\n",
        "     Size of the context window\n",
        "  word_to_index : Dictionary\n",
        "     Dictionary mapping words to index with format {word:index}\n",
        "  Returns\n",
        "  -------\n",
        "  surroundings : N x W Tensor\n",
        "      Tensor with index of surrounding words, with N being the number of samples and W being the window size\n",
        "  targets : Tensor\n",
        "      Tensor with index of target word\n",
        "  \"\"\"\n",
        "  surroundings= []\n",
        "  targets = []\n",
        "  data= data.split(\" \")\n",
        "  #TODO complete function\n",
        "  for i in range(window_size,len(data)-window_size):\n",
        "    surrounding = [word_to_index[data[j]] for j in range(i - window_size, i + window_size + 1) if j != i] #get surrounding words based on window size\n",
        "    target = word_to_index[data[i]] #get target word (middle word)\n",
        "    #append to surrounding\n",
        "    surroundings.append(surrounding)\n",
        "    #append to targets\n",
        "    targets.append(target)\n",
        "  surroundings = torch.tensor(surroundings, dtype=torch.long)\n",
        "  targets = torch.tensor(targets, dtype=torch.long)\n",
        "  return surroundings, targets\n",
        "\n",
        "t_surroundings, t_targets = generate_dataset(text,2,word_to_index)"
      ]
    },
    {
      "cell_type": "markdown",
      "metadata": {
        "id": "7OYFIK0g0YsI"
      },
      "source": [
        "With our dataset ready we can finally create our Neural Network. The idea is to replicate what Mikolov did in 2013 (see slides of Word2Vec)."
      ]
    },
    {
      "cell_type": "code",
      "execution_count": 34,
      "metadata": {
        "ExecuteTime": {
          "end_time": "2024-10-24T21:21:35.875656Z",
          "start_time": "2024-10-24T21:21:35.872552Z"
        },
        "id": "gKDcC75jzaXz"
      },
      "outputs": [],
      "source": [
        "class CBOW(nn.Module):\n",
        "  def __init__(self, vocab_size, embed_dim=300):\n",
        "    \"\"\" Class to define the CBOW model\n",
        "    Attributes\n",
        "    ---------\n",
        "    device : device\n",
        "      Device where the model will be trained (gpu preferably)\n",
        "    vocab_size : int\n",
        "      Size of the vocabulary\n",
        "    embed_dim : int\n",
        "      Size of the embedding layer\n",
        "    hidden_dim : int\n",
        "      Size of the hidden layer\n",
        "    \"\"\"\n",
        "    super().__init__()\n",
        "    self.embedding = nn.Embedding(vocab_size, embed_dim) #use this layer to get a vector from the the word index\n",
        "    self.linear = nn.Linear(embed_dim, vocab_size) #first fully connected layer (bottleneck)\n",
        "\n",
        "  def forward(self, x):\n",
        "    emb = self.embedding(x) #pass input through embedding layer\n",
        "    average = emb.mean(dim=1) #average and resize (size must be batch_size x embed_dim)\n",
        "    out = self.linear(average) #pass through linear layer\n",
        "\n",
        "    return out"
      ]
    },
    {
      "cell_type": "code",
      "execution_count": 35,
      "metadata": {
        "ExecuteTime": {
          "end_time": "2024-10-24T21:21:37.314538Z",
          "start_time": "2024-10-24T21:21:35.876376Z"
        },
        "id": "7F9PVmiIgsXW"
      },
      "outputs": [],
      "source": [
        "from torch.utils.data import DataLoader\n",
        "#creation of dataloader for training\n",
        "train_dataloader=DataLoader(list(zip(t_surroundings,t_targets)),batch_size=64,shuffle=True) #Here please change batch size depending of your GPU capacities (if GPU runs out of memory lower batch_size)"
      ]
    },
    {
      "cell_type": "code",
      "execution_count": 36,
      "metadata": {
        "ExecuteTime": {
          "start_time": "2024-10-24T21:21:37.321897Z"
        },
        "colab": {
          "base_uri": "https://localhost:8080/"
        },
        "id": "kexSYJE3vp_d",
        "jupyter": {
          "is_executing": true
        },
        "outputId": "8fc7cd23-fa24-4b01-e594-f9293806733b"
      },
      "outputs": [
        {
          "output_type": "stream",
          "name": "stderr",
          "text": [
            "100%|██████████| 12/12 [00:00<00:00, 406.21it/s]\n"
          ]
        },
        {
          "output_type": "stream",
          "name": "stdout",
          "text": [
            "Epoch 1 loss: 6.258759260177612\n"
          ]
        },
        {
          "output_type": "stream",
          "name": "stderr",
          "text": [
            "100%|██████████| 12/12 [00:00<00:00, 300.70it/s]\n"
          ]
        },
        {
          "output_type": "stream",
          "name": "stdout",
          "text": [
            "Epoch 2 loss: 5.81834892431895\n"
          ]
        },
        {
          "output_type": "stream",
          "name": "stderr",
          "text": [
            "100%|██████████| 12/12 [00:00<00:00, 254.74it/s]\n"
          ]
        },
        {
          "output_type": "stream",
          "name": "stdout",
          "text": [
            "Epoch 3 loss: 5.426899393399556\n"
          ]
        },
        {
          "output_type": "stream",
          "name": "stderr",
          "text": [
            "100%|██████████| 12/12 [00:00<00:00, 232.96it/s]\n"
          ]
        },
        {
          "output_type": "stream",
          "name": "stdout",
          "text": [
            "Epoch 4 loss: 5.046012878417969\n"
          ]
        },
        {
          "output_type": "stream",
          "name": "stderr",
          "text": [
            "100%|██████████| 12/12 [00:00<00:00, 211.10it/s]\n"
          ]
        },
        {
          "output_type": "stream",
          "name": "stdout",
          "text": [
            "Epoch 5 loss: 4.673855821291606\n"
          ]
        },
        {
          "output_type": "stream",
          "name": "stderr",
          "text": [
            "100%|██████████| 12/12 [00:00<00:00, 198.11it/s]\n"
          ]
        },
        {
          "output_type": "stream",
          "name": "stdout",
          "text": [
            "Epoch 6 loss: 4.302071849505107\n"
          ]
        },
        {
          "output_type": "stream",
          "name": "stderr",
          "text": [
            "100%|██████████| 12/12 [00:00<00:00, 237.38it/s]\n"
          ]
        },
        {
          "output_type": "stream",
          "name": "stdout",
          "text": [
            "Epoch 7 loss: 3.9286625385284424\n"
          ]
        },
        {
          "output_type": "stream",
          "name": "stderr",
          "text": [
            "100%|██████████| 12/12 [00:00<00:00, 293.90it/s]\n"
          ]
        },
        {
          "output_type": "stream",
          "name": "stdout",
          "text": [
            "Epoch 8 loss: 3.5783042510350547\n"
          ]
        },
        {
          "output_type": "stream",
          "name": "stderr",
          "text": [
            "100%|██████████| 12/12 [00:00<00:00, 282.25it/s]\n"
          ]
        },
        {
          "output_type": "stream",
          "name": "stdout",
          "text": [
            "Epoch 9 loss: 3.2293990651766458\n"
          ]
        },
        {
          "output_type": "stream",
          "name": "stderr",
          "text": [
            "100%|██████████| 12/12 [00:00<00:00, 291.57it/s]"
          ]
        },
        {
          "output_type": "stream",
          "name": "stdout",
          "text": [
            "Epoch 10 loss: 2.89553572734197\n"
          ]
        },
        {
          "output_type": "stream",
          "name": "stderr",
          "text": [
            "\n"
          ]
        }
      ],
      "source": [
        "from tqdm import tqdm\n",
        "device = torch.device(\"cuda\" if torch.cuda.is_available() else \"cpu\") #CAUTION: RUN THIS CODE WITH GPU, CPU WILL TAKE TOO LONG\n",
        "model = CBOW(len(word_to_index)).to(device)\n",
        "loss_function = nn.CrossEntropyLoss()\n",
        "optimizer = torch.optim.Adam(model.parameters(), lr=0.001)\n",
        "epochs = 100\n",
        "\n",
        "#BE PATIENT: This code can take up to 2 hours and 10 min for a batch size of 64 and 10 epochs\n",
        "for epoch in range(epochs):\n",
        "    total_loss = 0\n",
        "    i=0\n",
        "    for surr, tar in tqdm(train_dataloader):\n",
        "        surr, tar = surr.to(device), tar.to(device)\n",
        "        outputs = model(surr)\n",
        "        loss = loss_function(outputs, tar)\n",
        "        optimizer.zero_grad()\n",
        "        loss.backward()\n",
        "        optimizer.step()\n",
        "        total_loss += loss.item()\n",
        "\n",
        "    print(f\"Epoch {epoch+1} loss: {total_loss/len(train_dataloader)}\")"
      ]
    },
    {
      "cell_type": "markdown",
      "metadata": {
        "id": "tMjs6zu63bnh"
      },
      "source": [
        "## Let's test it! 🤓"
      ]
    },
    {
      "cell_type": "markdown",
      "metadata": {
        "id": "7rarP3Yw3eCW"
      },
      "source": [
        "Now that we hopefully have good embeddings we can put them to the test. Let's start by creating some useful functions."
      ]
    },
    {
      "cell_type": "code",
      "execution_count": 37,
      "metadata": {
        "collapsed": true,
        "id": "xJndx_85UJeY",
        "jupyter": {
          "is_executing": true
        },
        "colab": {
          "base_uri": "https://localhost:8080/"
        },
        "outputId": "8d2685ec-8729-4f07-a73f-fa08aa24d596"
      },
      "outputs": [
        {
          "output_type": "execute_result",
          "data": {
            "text/plain": [
              "tensor([[[-1.1258, -1.1524, -0.2506,  ...,  0.8200, -0.6332,  1.2948],\n",
              "         [ 1.4945, -0.5820,  1.0615,  ..., -0.3457,  0.2155, -0.3532],\n",
              "         [ 0.1169,  2.4709,  1.3817,  ..., -1.0794,  1.1832, -0.5844],\n",
              "         ...,\n",
              "         [-0.3280, -0.7463,  1.4595,  ..., -0.4095,  0.0215, -1.0649],\n",
              "         [ 1.1328, -1.8924, -0.7034,  ..., -0.5180, -2.5423, -0.5869],\n",
              "         [ 1.7686, -0.1351,  0.2999,  ..., -0.9104, -0.3482, -0.5943]]],\n",
              "       device='cuda:0')"
            ]
          },
          "metadata": {},
          "execution_count": 37
        }
      ],
      "source": [
        "def get_embedding(word, model, word_to_index):\n",
        "    \"\"\" Method to get the embedding vector for a given word.\n",
        "    Arguments\n",
        "    ---------\n",
        "    word : String\n",
        "       Word given\n",
        "    model : nn.Module\n",
        "       CBOW model\n",
        "    word_to_index : Dictionary\n",
        "       Dictionary mapping words to index with format {word:index}\n",
        "    Returns\n",
        "    -------\n",
        "    word_embedding : Tensor\n",
        "        Embedding vector for the given word\n",
        "    \"\"\"\n",
        "    # Get word index\n",
        "    index = word_to_index.get(word, word_to_index['OOV'])\n",
        "\n",
        "    with torch.no_grad():\n",
        "        # Get the weights of the embedding layer\n",
        "        embedding_weights = model.embedding.weight\n",
        "        embedding_weights.requires_grad = False\n",
        "        # Extract the embedding vector for the given word index\n",
        "        word_embedding = embedding_weights[index]\n",
        "\n",
        "    return word_embedding\n",
        "\n",
        "# Test the function by getting embedding of the word \"shot\"\n",
        "shot_embedding = get_embedding(\"shot\", model, word_to_index)\n",
        "print(\"Embedding for 'shot':\")\n",
        "print(shot_embedding)\n",
        "print(\"Embedding shape:\", shot_embedding.shape)"
      ]
    },
    {
      "cell_type": "code",
      "execution_count": 38,
      "metadata": {
        "id": "LzvJUi9a52d3",
        "jupyter": {
          "is_executing": true
        }
      },
      "outputs": [],
      "source": [
        "def cosine_similarity(v1, v2):\n",
        "    \"\"\" Method to calculate cosine similarity between two vectors.\n",
        "    Arguments\n",
        "    ---------\n",
        "    v1 : Tensor\n",
        "       First vector\n",
        "    v2 : Tensor\n",
        "       Second vector\n",
        "    Returns\n",
        "    -------\n",
        "    cosine_similarity : float\n",
        "        Cosine similarity between v1 and v2\n",
        "    \"\"\"\n",
        "    return torch.dot(v1, v2) / (torch.norm(v1) * torch.norm(v2))"
      ]
    },
    {
      "cell_type": "code",
      "execution_count": 39,
      "metadata": {
        "id": "c8KBIdW3ODC8",
        "jupyter": {
          "is_executing": true
        }
      },
      "outputs": [],
      "source": [
        "def get_k_nearest_words(k, word_embedding, vocabulary, model, word_to_index):\n",
        "    \"\"\" Method to find the k nearest words of a given vector\n",
        "    Arguments\n",
        "    ---------\n",
        "    k : int\n",
        "       Number of nearest words to return\n",
        "    word_embedding : torch.Tensor\n",
        "       Embedding vector for the given word\n",
        "    vocabulary : Dictionary\n",
        "       Dictionary mapping words to frequency with format {word:frequency}\n",
        "    model : nn.Module\n",
        "       CBOW model\n",
        "    word_to_index : Dictionary\n",
        "       Dictionary mapping words to index with format {word:index}\n",
        "    Returns\n",
        "    -------\n",
        "    similar : List of Strings\n",
        "        List of k nearest words to the given word\n",
        "    \"\"\"\n",
        "    similarity_scores = torch.zeros(len(vocabulary))\n",
        "\n",
        "    # Fill similarity scores matrix using the word and our cosine_similarity function\n",
        "    for i, word in enumerate(vocabulary.keys()):\n",
        "        other_embedding = get_embedding(word, model, word_to_index)\n",
        "        similarity_scores[i] = cosine_similarity(word_embedding, other_embedding)\n",
        "\n",
        "    # Get the k highest similarity scores\n",
        "    k_values, k_indices = torch.topk(similarity_scores, k + 1)  # +1 to account for the word itself\n",
        "\n",
        "    similar = []\n",
        "    for i in range(1, k + 1):  # Start from 1 to skip the word itself\n",
        "        index = k_indices[i].item()\n",
        "        word = list(vocabulary.keys())[index]\n",
        "        similar.append(word)\n",
        "\n",
        "    return similar\n",
        "\n",
        "# Example usage:\n",
        "word = \"cat\"\n",
        "word_embedding = get_embedding(word, model, word_to_index)\n",
        "nearest_words = get_k_nearest_words(10, word_embedding, vocabulary, model, word_to_index)\n",
        "print(f\"10 nearest words to '{word}': {nearest_words}\")"
      ]
    },
    {
      "cell_type": "markdown",
      "metadata": {
        "id": "ITgPYX7l39Vj"
      },
      "source": [
        "The Google analogy test set is a state of the art data set for word embeddings that tests their ability to solve analogy tasks. A well-known example for it is: \"king is to man as queen is to women.\" We will use a subset of this dataset to see how our CBOW model performs.\n"
      ]
    },
    {
      "cell_type": "code",
      "execution_count": 40,
      "metadata": {
        "id": "HGHmp7OVIPZI",
        "jupyter": {
          "is_executing": true
        },
        "colab": {
          "base_uri": "https://localhost:8080/",
          "height": 70
        },
        "outputId": "aba7c2d7-76ff-4720-8a85-0d5a7b69d9a1"
      },
      "outputs": [
        {
          "output_type": "stream",
          "name": "stdout",
          "text": [
            "Total tasks skipped due to missing words: 506\n",
            "No valid tasks were processed.\n"
          ]
        },
        {
          "output_type": "execute_result",
          "data": {
            "text/plain": [
              "'No word was found in the embeddings'"
            ],
            "application/vnd.google.colaboratory.intrinsic+json": {
              "type": "string"
            }
          },
          "metadata": {},
          "execution_count": 40
        }
      ],
      "source": [
        "import pandas as pd\n",
        "\n",
        "def test_analogy(model, word_to_index, analogy_file):\n",
        "    \"\"\" Method to test accuracy of CBOW embeddings on analogy tasks.\n",
        "    Arguments\n",
        "    ---------\n",
        "    model : nn.Module\n",
        "       CBOW model\n",
        "    word_to_index : Dictionary\n",
        "       Dictionary mapping words to index with format {word:index}\n",
        "    analogy_file : String\n",
        "       File containing analogy tasks\n",
        "    Returns\n",
        "    -------\n",
        "    accuracy : float\n",
        "        accuracy of the model on the analogy tasks\n",
        "    \"\"\"\n",
        "    df = pd.read_csv(analogy_file)\n",
        "    df = df[df.category=='capital-common-countries']  # using capital cities subset of test set\n",
        "    correct = 0\n",
        "    total = 0\n",
        "\n",
        "    for index, row in df.iterrows():\n",
        "        # Extract words and standardize to lowercase\n",
        "        word_one = row['word_one'].lower()\n",
        "        word_two = row['word_two'].lower()\n",
        "        word_three = row['word_three'].lower()\n",
        "        word_four = row['word_four'].lower()\n",
        "\n",
        "        try:\n",
        "            # Get embeddings of all words\n",
        "            emb_one = get_embedding(word_one, model, word_to_index)\n",
        "            emb_two = get_embedding(word_two, model, word_to_index)\n",
        "            emb_three = get_embedding(word_three, model, word_to_index)\n",
        "\n",
        "            # Calculate result embedding\n",
        "            result = emb_two - emb_one + emb_three\n",
        "\n",
        "            # Get 10 nearest neighbors\n",
        "            prediction = get_k_nearest_words(10, result, word_to_index, model, word_to_index)\n",
        "\n",
        "            # Check if word_four is in prediction\n",
        "            if word_four in prediction:\n",
        "                correct += 1\n",
        "\n",
        "            total += 1\n",
        "\n",
        "        except KeyError:\n",
        "            # Skip this analogy if any word is not in the vocabulary\n",
        "            continue\n",
        "\n",
        "    if total != 0:\n",
        "        accuracy = correct / total\n",
        "    else:\n",
        "        return 'No word was found in the embeddings'\n",
        "\n",
        "    return accuracy\n",
        "\n",
        "# Test the analogy function\n",
        "accuracy = test_analogy(model, word_to_index, 'TestSet_sample.csv')\n",
        "print(f\"Accuracy on analogy tasks: {accuracy}\")"
      ]
    },
    {
      "cell_type": "markdown",
      "metadata": {
        "id": "_rP0Vw7ZW_Ex"
      },
      "source": [
        "Our model can do much better! In the \"Let's experiment\" part we will try to improve this model. Also depending on your GPU accesibility you can train for more epochs and data (making trim_dataset bigger in cell #3)."
      ]
    },
    {
      "cell_type": "markdown",
      "metadata": {
        "id": "LpVIN3nvP7pE"
      },
      "source": [
        "TSNE can be a very helpful and cool visualization method of our vectors, this way we can clearly see the relationship between different words (maybe even find some clusters!). Let's implement this visualization."
      ]
    },
    {
      "cell_type": "code",
      "execution_count": 41,
      "metadata": {
        "id": "GUew12KwEqOP",
        "jupyter": {
          "is_executing": true
        },
        "colab": {
          "base_uri": "https://localhost:8080/",
          "height": 542
        },
        "outputId": "c33558a5-de7a-4788-8f1c-f610aa60f1c2"
      },
      "outputs": [
        {
          "output_type": "display_data",
          "data": {
            "text/html": [
              "<html>\n",
              "<head><meta charset=\"utf-8\" /></head>\n",
              "<body>\n",
              "    <div>            <script src=\"https://cdnjs.cloudflare.com/ajax/libs/mathjax/2.7.5/MathJax.js?config=TeX-AMS-MML_SVG\"></script><script type=\"text/javascript\">if (window.MathJax && window.MathJax.Hub && window.MathJax.Hub.Config) {window.MathJax.Hub.Config({SVG: {font: \"STIX-Web\"}});}</script>                <script type=\"text/javascript\">window.PlotlyConfig = {MathJaxConfig: 'local'};</script>\n",
              "        <script charset=\"utf-8\" src=\"https://cdn.plot.ly/plotly-2.35.2.min.js\"></script>                <div id=\"6142fc45-30b2-4d18-9547-4bcbe180103b\" class=\"plotly-graph-div\" style=\"height:525px; width:100%;\"></div>            <script type=\"text/javascript\">                                    window.PLOTLYENV=window.PLOTLYENV || {};                                    if (document.getElementById(\"6142fc45-30b2-4d18-9547-4bcbe180103b\")) {                    Plotly.newPlot(                        \"6142fc45-30b2-4d18-9547-4bcbe180103b\",                        [{\"marker\":{\"color\":\"blue\",\"opacity\":0.7,\"size\":5},\"mode\":\"markers+text\",\"text\":[\"\\u003cOOV\\u003e\",\"substance\",\"material\",\"matter\",\"something\",\"made\",\"substances\",\"physical\",\"things\",\"seen\",\"touched\",\"measured\",\"one\",\"elemental\",\"parts\",\"iron\",\"aluminium\",\"water\",\"air\",\"examples\",\"problems\",\"definition\",\"main\",\"problem\",\"clear\",\"example\",\"consider\",\"universe\",\"cosmos\",\"nonbeing\",\"general\",\"question\",\"arises\",\"constant\",\"basic\",\"principle\",\"attribute\",\"basis\",\"generally\",\"consists\",\"mind\",\"senses\",\"space\",\"soul\",\"history\",\"concept\",\"latin\",\"word\",\"substantia\",\"translation\",\"greek\",\"essence\",\"ousia\",\"describe\",\"using\",\"essentia\",\"ancient\",\"philosophy\",\"treated\",\"substrate\",\"first\",\"thales\",\"fire\",\"heraclitus\",\"modern\",\"times\",\"spread\",\"widely\",\"view\",\"connected\",\"ontological\",\"understanding\",\"ultimate\",\"bases\",\"francis\",\"bacon\",\"benedict\",\"spinoza\",\"gottfried\",\"wilhelm\",\"leibniz\",\"central\",\"category\",\"metaphysics\",\"identified\",\"god\",\"nature\",\"determined\",\"cause\",\"causa\",\"sui\",\"characteristics\",\"attributes\",\"thinking\",\"stretch\",\"analogy\",\"considered\",\"light\",\"ren\\u00e9\",\"descartes\",\"unity\",\"subject\",\"object\",\"second\",\"atoms\",\"simple\",\"beings\",\"lose\",\"receive\",\"aspirations\",\"french\",\"appetition\",\"multiplicity\",\"thanks\",\"begins\",\"associate\",\"point\",\"epistemological\",\"capabilities\",\"need\",\"scientific\",\"knowledge\",\"john\",\"locke\",\"david\",\"hume\",\"immanuel\",\"kant\",\"believed\",\"law\",\"change\",\"events\",\"number\",\"stored\",\"remains\",\"attributed\",\"analogies\",\"experience\",\"georg\",\"friedrich\",\"hegel\",\"defined\",\"integrity\",\"changing\",\"transient\",\"side\",\"major\",\"step\",\"development\",\"arthur\",\"schopenhauer\",\"fiction\",\"coexistence\",\"properties\",\"related\",\"articles\",\"chemical\",\"english\",\"words\",\"physics\",\"american\",\"solidarity\",\"party\",\"asp\",\"christian\",\"democratic\",\"political\",\"united\",\"states\",\"founded\",\"officially\",\"incorporated\",\"national\",\"committee\",\"snc\",\"numerous\",\"active\",\"state\",\"local\",\"chapters\",\"brian\",\"carroll\",\"party\\u2019s\",\"nominee\",\"presidential\",\"election\",\"beliefs\",\"social\",\"issues\",\"calls\",\"prolife\",\"whole\",\"life\",\"meaning\",\"abortion\",\"capital\",\"punishment\",\"police\",\"violence\",\"forcing\",\"prisoners\",\"work\",\"without\",\"pay\",\"supports\",\"universal\",\"healthcare\",\"protecting\",\"migrants\",\"safety\",\"nets\",\"establishments\",\"parties\",\"kenneth\",\"robert\",\"ken\",\"sears\",\"august\",\"\\u2013\",\"april\",\"professional\",\"basketball\",\"player\",\"holds\",\"title\",\"cover\",\"sports\",\"illustrated\",\"magazine\",\"appearing\",\"december\",\"issue\",\"played\",\"eight\",\"seasons\",\"association\",\"member\",\"new\",\"york\",\"knicks\",\"san\",\"francisco\",\"warriors\",\"averaged\",\"points\",\"per\",\"game\",\"rebounds\",\"nba\",\"career\",\"allstar\",\"spent\",\"season\",\"shortlived\",\"league\",\"died\",\"home\",\"watsonville\",\"california\",\"aged\",\"births\",\"deaths\",\"players\",\"golden\",\"sportspeople\",\"yehoshua\",\"sofer\",\"israeli\",\"hip\",\"hop\",\"musician\",\"martial\",\"artist\",\"born\",\"nigel\",\"wilson\",\"jamaica\",\"family\",\"moved\",\"los\",\"angeles\",\"studied\",\"tang\",\"soo\",\"got\",\"black\",\"belt\",\"time\",\"ten\",\"kuk\",\"sool\",\"worked\",\"trainer\",\"bodyguard\",\"websites\",\"abir\",\"living\",\"people\",\"singers\",\"jamaican\",\"jewish\",\"musicians\",\"naturalized\",\"citizens\",\"israel\",\"pendleton\",\"city\",\"umatilla\",\"county\",\"oregon\",\"population\",\"census\",\"seat\",\"cities\",\"seats\",\"guillermo\",\"franco\",\"november\",\"mexican\",\"football\",\"plays\",\"west\",\"ham\",\"mexico\",\"team\",\"club\",\"statistics\",\"rowspansan\",\"lorenzo\",\"almagrorowspanprimera\",\"divisi\\u00f3n\",\"rowspanmonterreyrowspanprimera\",\"rowspanvillarrealrowspanla\",\"liga\",\"unitedpremier\",\"international\",\"total\",\"footballers\",\"japanese\",\"thoroughbred\",\"racemare\",\"group\",\"gi\",\"tokyo\",\"y\\u016bshun\",\"derby\",\"seven\",\"g\",\"races\",\"japan\",\"highest\",\"earning\",\"vodka\",\"laminitis\",\"newmarket\",\"suffolk\",\"racehorses\",\"santa\",\"clarita\",\"diet\",\"horrorcomedy\",\"web\",\"television\",\"series\",\"created\",\"victor\",\"fresco\",\"streaming\",\"service\",\"netflix\",\"stars\",\"drew\",\"barrymore\",\"timothy\",\"olyphant\",\"premiered\",\"february\",\"received\",\"positive\",\"reviews\",\"critics\",\"praising\",\"cast\",\"premise\",\"criticizing\",\"graphic\",\"scenes\",\"announced\",\"march\",\"cancelled\",\"third\",\"joel\",\"sheila\",\"hammond\",\"real\",\"estate\",\"agents\",\"couple\",\"face\",\"harsh\",\"transformation\",\"zombie\",\"starts\",\"craving\",\"human\",\"flesh\",\"eating\",\"clams\",\"trying\",\"help\",\"deal\",\"neighbors\",\"cultural\",\"norms\",\"getting\",\"bottom\",\"potentially\",\"mythological\",\"mystery\",\"horror\",\"comedy\",\"set\",\"debuts\",\"endings\",\"original\",\"shows\",\"englishlanguage\",\"programs\",\"oxbow\",\"incident\",\"western\",\"movie\",\"directed\",\"william\",\"wellman\",\"based\",\"book\",\"name\",\"walter\",\"van\",\"tilburg\",\"clark\",\"actors\",\"include\",\"henry\",\"fonda\",\"dana\",\"andrews\",\"mary\",\"beth\",\"hughes\",\"anthony\",\"quinn\",\"jane\",\"darwell\",\"eythe\",\"harry\",\"davenport\",\"frank\",\"conroy\",\"willard\",\"robertson\",\"ford\",\"distributed\",\"th\",\"century\",\"fox\",\"nominated\",\"academy\",\"award\",\"movies\",\"books\",\"nevada\",\"beaton\",\"tulk\",\"may\",\"canadian\",\"politician\",\"seventh\",\"premier\",\"newfoundland\",\"labrador\",\"ladle\",\"cove\",\"house\",\"assembly\",\"liberal\",\"appointed\",\"federal\",\"government\",\"jean\",\"chr\\u00e9tien\",\"transportation\",\"agency\",\"flanker\",\"press\",\"released\",\"autobiography\",\"man\",\"prostate\",\"cancer\",\"day\",\"birthday\",\"musgravetown\",\"premiers\"],\"textposition\":\"top center\",\"x\":[1.7970004081726074,-2.0733773708343506,0.049056556075811386,-2.1356754302978516,5.996703624725342,1.6371668577194214,-3.0618536472320557,3.1077165603637695,2.7076799869537354,3.257291078567505,3.9677860736846924,-3.447113275527954,-1.4615668058395386,-1.158032774925232,-3.5776045322418213,-1.2970104217529297,-5.496572494506836,-2.344677448272705,5.370964527130127,-2.9339005947113037,-6.419239521026611,-2.2357306480407715,-0.5856633186340332,-2.193969964981079,-2.126217842102051,1.4681752920150757,-3.92502498626709,1.706940770149231,5.701480865478516,-3.956470012664795,-1.5431201457977295,2.4404637813568115,-3.7461233139038086,-1.914017915725708,-0.3838083744049072,2.640368700027466,5.044510364532471,-0.7893458604812622,0.768842875957489,-4.187277793884277,0.447539746761322,0.7708120942115784,0.33863162994384766,2.980041742324829,-4.173068046569824,5.799097537994385,-6.280063152313232,-0.520878255367279,-2.77898907661438,1.7661882638931274,-1.4426060914993286,-4.89478874206543,4.10753870010376,-0.5949908494949341,-4.4443440437316895,-3.8381311893463135,-0.9644016027450562,-1.9966846704483032,2.6214916706085205,-3.725987195968628,1.3677393198013306,3.1118035316467285,1.182736873626709,2.9522650241851807,-3.714364528656006,-0.3907932639122009,5.946107387542725,2.468132495880127,-4.807436466217041,3.108551025390625,0.32798320055007935,-0.06812594830989838,3.6452114582061768,-0.7921022176742554,1.7568882703781128,0.02233794331550598,-4.00717830657959,1.5507733821868896,0.6725258827209473,-3.765468120574951,-2.4625089168548584,-5.751322269439697,0.3240489363670349,-0.41528910398483276,-0.9674636721611023,5.251437664031982,1.4755114316940308,-0.09415886551141739,-0.9432408213615417,3.9739789962768555,0.03640244901180267,0.0965980812907219,-4.672253131866455,0.1955312192440033,-1.7287306785583496,-0.37597569823265076,1.1230862140655518,0.23920872807502747,0.2744406759738922,0.6404017210006714,0.6854402422904968,-2.233748197555542,1.0993984937667847,-3.300330638885498,3.6623127460479736,2.036632537841797,-0.3977641463279724,-1.6579865217208862,-4.9121503829956055,-2.517543077468872,-0.709143340587616,-5.284846305847168,-2.9364519119262695,0.25061914324760437,2.5676400661468506,0.23227182030677795,0.7771039009094238,0.6778033375740051,2.0976006984710693,2.104916572570801,2.5168540477752686,1.7103729248046875,-1.1517455577850342,4.630828380584717,3.362665891647339,-6.3864521980285645,0.3802473545074463,-0.7138848304748535,2.5779671669006348,1.2085778713226318,-2.184046983718872,5.274641513824463,-1.4815315008163452,1.0105884075164795,2.8155736923217773,0.6913632154464722,-0.7406788468360901,-3.0191898345947266,-4.22068977355957,3.0907676219940186,3.2310428619384766,0.19839587807655334,-1.3482651710510254,-1.4095001220703125,1.592591404914856,-1.5033748149871826,-0.9932604432106018,1.1366221904754639,-4.4497504234313965,-2.8168327808380127,-0.9342517852783203,-2.1986541748046875,-0.39632388949394226,0.023621831089258194,5.498628616333008,0.969588577747345,2.585327625274658,-1.1201609373092651,2.428367853164673,-0.24965690076351166,2.9362261295318604,-4.14906120300293,-5.97686243057251,-0.38715860247612,-1.4119311571121216,-1.949744462966919,-2.242791175842285,0.226715549826622,-6.436151027679443,-1.8899109363555908,-2.4564151763916016,1.7124989032745361,1.2215793132781982,3.236919403076172,2.976306200027466,2.1891448497772217,4.234567642211914,2.301664352416992,0.3208354711532593,4.272836208343506,5.85172700881958,4.277305603027344,0.009623352438211441,-0.42287275195121765,-4.584789752960205,-2.394801378250122,3.8976025581359863,2.924131393432617,3.4744277000427246,-0.24419942498207092,0.26081183552742004,0.17665451765060425,1.8387455940246582,3.0258383750915527,-0.4209844768047333,-4.527791976928711,1.8817191123962402,-1.0318732261657715,-0.08061948418617249,-4.145470142364502,-5.653833866119385,-0.6710938811302185,2.7354280948638916,4.297233581542969,-0.3135848641395569,-0.9715773463249207,2.905726909637451,-4.945075511932373,-3.268193006515503,-3.5115835666656494,-2.2832305431365967,2.7202677726745605,-5.326266765594482,1.2884691953659058,1.4177335500717163,0.09482873976230621,0.11917402595281601,-2.5835142135620117,-2.412557601928711,1.143441915512085,4.272670269012451,-3.148857831954956,3.103006362915039,-4.524440288543701,0.6681591868400574,5.87454891204834,-0.6408267617225647,-1.2302262783050537,4.024775981903076,1.499605655670166,-6.443410873413086,1.6008186340332031,-1.8969591856002808,-1.3933744430541992,3.562761068344116,4.354922771453857,-3.1870200634002686,1.8591560125350952,5.8111891746521,-3.6455461978912354,2.3567564487457275,-2.296308994293213,2.4418253898620605,-2.5266273021698,1.893072485923767,-2.946265459060669,-1.2274703979492188,2.773844003677368,-1.1343194246292114,0.8149153590202332,3.3570032119750977,-1.7565336227416992,-3.5207855701446533,2.0926671028137207,-0.003425738774240017,-2.2130789756774902,-0.4835800528526306,1.1016621589660645,-1.5462796688079834,-3.0549912452697754,-1.228933572769165,0.01996927708387375,0.9417261481285095,-5.2696709632873535,-4.776522159576416,-0.6546058654785156,0.9576531648635864,5.497178077697754,4.209806442260742,-3.142493486404419,-1.5203564167022705,-3.2393856048583984,0.17799943685531616,2.6030430793762207,1.784751534461975,4.6450300216674805,-2.0987672805786133,-3.243675708770752,0.06829547882080078,-0.5491883754730225,-0.42586031556129456,0.42656975984573364,0.4676825702190399,1.0125348567962646,-2.460897207260132,-4.843626022338867,0.872125506401062,-2.724869728088379,3.7493460178375244,-2.5706844329833984,-1.8385965824127197,2.484788656234741,1.5570358037948608,5.095761775970459,-3.3367738723754883,-4.3982834815979,3.1181180477142334,4.477499485015869,-2.0049660205841064,-5.553948879241943,3.3324999809265137,1.6018503904342651,-3.0664920806884766,4.114811420440674,-1.8864378929138184,0.15549620985984802,-0.29424890875816345,-3.278381109237671,-2.0185706615448,3.4081156253814697,1.5927952527999878,5.9732279777526855,-6.032815933227539,-1.32148277759552,-1.4843322038650513,1.516882061958313,4.646246433258057,1.173437476158142,-0.6626192927360535,5.081817150115967,-4.817578315734863,0.7930629849433899,0.8898342251777649,2.991427183151245,5.438117980957031,-1.792676568031311,-3.0417370796203613,0.9026340842247009,1.4514505863189697,-0.4013735055923462,-1.9666258096694946,1.9457364082336426,-1.3685842752456665,-0.10826335102319717,3.1199069023132324,-0.7873578071594238,-2.4951834678649902,-3.3516488075256348,-3.4366276264190674,0.8982005715370178,0.12465361505746841,1.1927229166030884,3.1075966358184814,-0.6986445188522339,-0.9063736796379089,1.409833312034607,-0.3340640366077423,-1.4034672975540161,-3.767947196960449,0.26935896277427673,0.6160374283790588,-1.8605364561080933,1.4913382530212402,-0.4141176640987396,0.9070833325386047,1.4058669805526733,2.4531829357147217,4.995328903198242,2.02883243560791,0.34797099232673645,3.13797664642334,2.4727203845977783,-0.6810535192489624,0.743101954460144,-2.7805681228637695,1.0697358846664429,2.9693729877471924,4.011910915374756,2.1054773330688477,-2.401819944381714,-1.7273598909378052,-4.280126571655273,-1.4020603895187378,-0.8002982139587402,0.5931153297424316,0.8367294073104858,2.614083766937256,2.744361400604248,-0.4503090977668762,2.20797061920166,0.4826175570487976,-1.5780826807022095,6.485706329345703,-4.2386579513549805,-0.9388913512229919,-0.4645017087459564,0.874657392501831,-1.7278032302856445,5.074357509613037,-0.8498795628547668,3.7674264907836914,1.8335826396942139,2.931781768798828,1.35353422164917,2.4050867557525635,2.5857582092285156,3.04536771774292,1.1877062320709229,-1.2583260536193848,-0.7061260938644409,0.9166866540908813,0.9897478818893433,-0.22917702794075012,-0.9757376909255981,4.686452865600586,-3.8830132484436035,1.6611136198043823,0.1010606437921524,4.797488689422607,-0.7228851318359375,-0.46758997440338135,2.037412643432617,1.4544262886047363,0.7891479730606079,5.559206008911133,-0.18184682726860046,6.315101623535156,4.24768590927124,1.1793397665023804,1.4413328170776367,-1.3982608318328857,-0.5078788995742798,-5.400393009185791,-0.0729977935552597,-2.615318775177002,-2.1726338863372803,0.8394418954849243,-0.728535532951355,4.765796184539795,-2.3352837562561035,2.6594085693359375,7.307941913604736,1.5067347288131714,-3.7481040954589844,-0.38206031918525696,3.5739943981170654,4.2507429122924805,1.7099881172180176,-5.069194316864014,4.199180603027344,0.6687330603599548,-2.6011173725128174,1.7319791316986084,0.38461431860923767,-1.6727663278579712,-2.6111483573913574,-4.418097019195557,-1.3131266832351685,1.6064454317092896,4.210705757141113,-2.796961784362793,2.6141676902770996,-2.349395990371704,4.331980228424072,0.05787187069654465,2.4911701679229736,1.7881282567977905,-1.206192135810852,-0.1307985782623291,0.1718396097421646,1.4096460342407227,-2.0730555057525635,-1.0382421016693115,-1.3574824333190918,-2.0913007259368896,-2.5441384315490723,-5.842446804046631,-0.15434418618679047,-3.1037368774414062,1.046856164932251,1.089816927909851,5.480184078216553,3.6135265827178955,4.121240615844727,-2.201915740966797,-1.4690766334533691,0.5079918503761292,6.445981979370117,3.719326972961426,1.697702169418335,4.295517444610596,-0.3177277445793152,2.497821092605591,-2.712618827819824,2.659489631652832,0.0077608623541891575,-2.007551670074463,-1.4310894012451172,-4.6374192237854,-3.391289234161377,-1.4636638164520264,4.689651012420654,0.08787097781896591,-3.6351616382598877,2.5753557682037354,0.8667486906051636,-1.9224807024002075,2.1673035621643066,0.4567086696624756,4.560715198516846,-2.7870731353759766,1.4637519121170044,-0.1394449770450592,2.978191375732422,-0.6420389413833618],\"y\":[-0.6669403314590454,-6.36575984954834,3.5134494304656982,1.2340179681777954,3.4489705562591553,3.927612781524658,1.9630708694458008,0.6284093260765076,1.6458309888839722,-1.2555276155471802,0.7652502655982971,-0.9519139528274536,1.1695009469985962,-0.3236405551433563,4.256185054779053,1.0730905532836914,1.2831668853759766,-5.308073043823242,0.22146843373775482,-0.1473301649093628,-3.2751352787017822,-0.32750579714775085,2.8893070220947266,1.8543429374694824,7.011801242828369,2.547926664352417,-4.031004428863525,0.8465235829353333,-2.5351812839508057,-0.3899533748626709,0.33973947167396545,1.522879719734192,-2.6970021724700928,-1.0575343370437622,3.0862998962402344,-2.438169240951538,4.002237796783447,2.9186151027679443,-0.7627286911010742,4.813518047332764,-2.9512670040130615,-4.9505228996276855,-2.201113700866699,2.043632984161377,-4.047077655792236,-3.154289484024048,-1.2484676837921143,5.139377593994141,-2.141340970993042,2.8973467350006104,0.6237367987632751,-4.2668843269348145,4.5414838790893555,1.3199024200439453,0.8462153077125549,-0.8628987669944763,-1.6901127099990845,-1.119240164756775,0.29001107811927795,3.2983901500701904,-1.9003655910491943,-1.719374418258667,-2.8731908798217773,-1.372348427772522,2.3213953971862793,-2.2321114540100098,2.1898646354675293,3.0458574295043945,-3.6015427112579346,0.19367849826812744,0.5779440999031067,-4.271355152130127,-0.6807431578636169,-3.0479652881622314,0.011914083734154701,4.371291160583496,-0.29944273829460144,2.633775234222412,-2.030080795288086,-1.7245460748672485,1.8244819641113281,-2.464064359664917,1.8913158178329468,0.04904858022928238,-1.4193987846374512,1.11183762550354,-2.3722567558288574,3.902388095855713,1.1803423166275024,0.6280876994132996,-4.192101001739502,0.5608778595924377,-1.5507272481918335,-1.4557721614837646,-0.8850663304328918,2.0971903800964355,0.8784530758857727,-2.979696035385132,0.45961862802505493,4.272986888885498,0.8515728712081909,-2.934523582458496,-1.4906588792800903,2.074687957763672,-4.604725360870361,5.90457010269165,-0.03496120870113373,-3.212387800216675,1.9772197008132935,0.8700901865959167,2.55351185798645,-0.9759769439697266,0.8414733409881592,0.5853925347328186,-4.210541248321533,0.7150081396102905,6.441197395324707,-0.2817484736442566,4.028268814086914,0.8622175455093384,-0.7154216170310974,3.164773941040039,3.7618069648742676,2.5942530632019043,-1.74141526222229,-1.2874529361724854,5.631370544433594,1.1349334716796875,4.836134910583496,2.382477283477783,-0.319033145904541,1.3570184707641602,5.201159477233887,0.5837193131446838,-1.5640987157821655,-0.26958784461021423,0.5805588364601135,0.8514613509178162,-1.5706143379211426,4.064531326293945,5.609527111053467,3.2505524158477783,6.370713233947754,0.7620416283607483,-1.263155221939087,0.6901640295982361,1.4198949337005615,-2.7924225330352783,1.0144401788711548,-3.346269130706787,2.5416176319122314,2.2570691108703613,-0.8008726835250854,1.54257333278656,-1.1161051988601685,2.37119197845459,4.742082595825195,0.34568750858306885,-0.20937946438789368,-4.59913969039917,-4.580641269683838,0.5759844183921814,1.9345883131027222,1.2185478210449219,-3.636146068572998,2.151434898376465,-0.07386846840381622,1.9216827154159546,-1.052965760231018,-1.797705054283142,1.3146777153015137,-0.060197994112968445,-1.9868029356002808,1.0348610877990723,-6.066379547119141,-3.7817163467407227,-1.4409458637237549,-1.4006041288375854,3.1564393043518066,4.559601783752441,2.2630250453948975,-1.4922188520431519,1.6567411422729492,0.39327573776245117,-2.75708270072937,-5.811279773712158,-0.8175229430198669,-3.30214262008667,-0.09190157055854797,1.6935760974884033,1.6127891540527344,-0.6037073731422424,1.7586368322372437,0.49579983949661255,5.45479154586792,2.7092819213867188,0.6504918336868286,3.9892895221710205,0.09698210656642914,-0.9528583288192749,0.3185865879058838,2.5968990325927734,1.5068480968475342,-2.1304643154144287,-5.75932502746582,-0.8858371376991272,3.150355577468872,0.19444918632507324,-0.5367379188537598,-2.7595067024230957,1.5821020603179932,4.599508762359619,-0.8171297907829285,-3.836865186691284,-1.71965491771698,-0.5424063801765442,6.903883934020996,-4.6188645362854,-1.778212547302246,-0.1274493932723999,1.078730583190918,2.7745227813720703,-1.6147513389587402,1.7957746982574463,1.9755887985229492,-0.9828541874885559,4.278740882873535,3.1144514083862305,-0.8688982725143433,-0.8379899859428406,-3.285330295562744,0.5341841578483582,-3.3662917613983154,6.489141464233398,-3.0285351276397705,1.0070340633392334,-2.746690273284912,-0.2467711865901947,-0.24325412511825562,-2.757310390472412,1.9186644554138184,0.11957600712776184,-0.8832834362983704,2.364534616470337,4.038010120391846,-4.038185119628906,-5.664460182189941,4.6734490394592285,-0.45779237151145935,-0.14345310628414154,2.974158525466919,-4.128307819366455,-5.431436061859131,-0.2639375329017639,-2.356052875518799,-4.110985279083252,0.21881619095802307,-0.1139228492975235,-4.557440280914307,4.791571617126465,3.945981025695801,-0.13537797331809998,-0.006798045709729195,3.4419851303100586,3.6407926082611084,-0.38854536414146423,3.523538827896118,-4.886547088623047,1.2145729064941406,-4.512864112854004,-0.6041976809501648,-1.8630611896514893,-1.8502464294433594,-4.251976013183594,-3.6209259033203125,-0.5310028791427612,-2.118743896484375,5.232352256774902,2.258941888809204,-1.739565134048462,-1.9311676025390625,5.632740020751953,0.8819209337234497,1.6119264364242554,2.5602524280548096,-2.7645299434661865,3.3131515979766846,-0.0602257214486599,-3.541383743286133,-2.075510025024414,2.066802978515625,-1.8754878044128418,-0.7501859664916992,1.0763272047042847,-0.3146696090698242,-1.3167322874069214,2.0292859077453613,1.904767394065857,5.049081325531006,-4.145495414733887,-0.10289547592401505,2.1457533836364746,3.7461953163146973,3.5279901027679443,3.7937734127044678,-0.8414833545684814,-1.8269221782684326,-1.1793177127838135,3.8746440410614014,5.850456714630127,-6.457376480102539,-1.989822268486023,0.26085448265075684,-0.8496164083480835,-0.2772769331932068,4.3756890296936035,2.2361433506011963,-0.748370885848999,-4.643328666687012,2.607889175415039,3.7439053058624268,1.8254679441452026,-1.7321960926055908,0.20900680124759674,5.056860446929932,-2.234039545059204,-2.181807518005371,3.9523632526397705,-2.210845470428467,-2.932210922241211,-0.13965368270874023,-1.631598711013794,2.6872899532318115,-1.80392587184906,0.7413816452026367,1.4181960821151733,3.5870683193206787,-1.2027329206466675,1.0800765752792358,-0.12320031225681305,6.856586933135986,1.455575942993164,-4.903582572937012,-2.2087903022766113,-1.7218204736709595,-1.2542836666107178,-5.44641637802124,1.1371920108795166,0.08330895006656647,2.7475101947784424,1.4204281568527222,2.082632303237915,-5.65830659866333,-2.3990797996520996,-3.8649022579193115,2.8305752277374268,1.5944421291351318,-5.334270000457764,-0.3369002342224121,-4.162278175354004,5.9547858238220215,-1.0447566509246826,-3.7059738636016846,-5.732527256011963,-3.449371099472046,-4.338247299194336,5.32662296295166,-0.9472256898880005,-4.503389358520508,-1.0739834308624268,-0.809668779373169,1.7110446691513062,4.8779401779174805,1.6328725814819336,0.9194545745849609,0.9807507395744324,-4.434762001037598,-0.2602851688861847,-2.0083580017089844,-0.6024068593978882,5.897078990936279,-0.005133783910423517,1.8469910621643066,-3.0570802688598633,-0.8776281476020813,-0.9361231923103333,2.972486734390259,2.7077267169952393,-1.0537199974060059,-3.027590751647949,3.66938853263855,-2.4835562705993652,-3.2631473541259766,-2.3490262031555176,-0.9544079303741455,0.49061205983161926,-3.386343240737915,2.96524715423584,-2.439037322998047,-1.1638020277023315,4.224109649658203,0.2546296715736389,-0.6529551148414612,-2.412595272064209,-2.7868587970733643,0.7056869268417358,2.871117353439331,-0.2788187265396118,-0.23239687085151672,-0.06255150586366653,2.263758420944214,1.0158826112747192,4.877389907836914,1.4782031774520874,-0.2128428816795349,-2.5816588401794434,0.7532098889350891,0.29334357380867004,-2.776042938232422,0.9146060347557068,-0.9851439595222473,-6.497447967529297,-2.2384915351867676,-1.3787884712219238,3.4074811935424805,-2.949650287628174,-1.023838996887207,4.502560138702393,-2.800274610519409,1.6890438795089722,2.83617901802063,1.4156014919281006,-1.2716827392578125,3.214982748031616,3.254826545715332,5.721440315246582,-4.833428382873535,-5.929124355316162,0.18641407787799835,-1.432198166847229,1.0347923040390015,-0.4649850130081177,0.4312913417816162,-0.8067235946655273,2.9822335243225098,0.48848485946655273,1.5638110637664795,-2.7466542720794678,-3.0304644107818604,0.1001981645822525,2.737339973449707,-1.4823225736618042,-2.4629909992218018,-0.007275359705090523,0.7324004173278809,2.997628927230835,-0.7200226187705994,-0.4896637797355652,-2.5830836296081543,3.0634500980377197,-1.19622004032135,-1.0255498886108398,-4.115498065948486,3.125612258911133,1.1750361919403076,-1.570415735244751,-0.4899875521659851,1.9234929084777832,-0.778495192527771,0.9679546356201172,-5.009802341461182,-4.88890266418457,2.0806143283843994,2.5861663818359375,-2.3280863761901855,1.9177300930023193,-0.7942959666252136,0.7129233479499817,2.2181572914123535,3.1505706310272217,-0.24646791815757751,1.0182338953018188,6.822201728820801,-1.9919822216033936,2.9186413288116455,-2.5737569332122803,-2.0079455375671387,0.18656209111213684,-1.6067122220993042,1.043982744216919,5.0877814292907715,-3.574880361557007,0.012904707342386246,-2.9254870414733887,-2.463775634765625,-3.7210984230041504,-2.8610243797302246,-3.527507781982422,-1.203876256942749,-2.9865875244140625,5.886280536651611,0.9978993535041809,-0.3628825843334198,0.7169939279556274,0.2415461391210556],\"type\":\"scatter\"}],                        {\"template\":{\"data\":{\"histogram2dcontour\":[{\"type\":\"histogram2dcontour\",\"colorbar\":{\"outlinewidth\":0,\"ticks\":\"\"},\"colorscale\":[[0.0,\"#0d0887\"],[0.1111111111111111,\"#46039f\"],[0.2222222222222222,\"#7201a8\"],[0.3333333333333333,\"#9c179e\"],[0.4444444444444444,\"#bd3786\"],[0.5555555555555556,\"#d8576b\"],[0.6666666666666666,\"#ed7953\"],[0.7777777777777778,\"#fb9f3a\"],[0.8888888888888888,\"#fdca26\"],[1.0,\"#f0f921\"]]}],\"choropleth\":[{\"type\":\"choropleth\",\"colorbar\":{\"outlinewidth\":0,\"ticks\":\"\"}}],\"histogram2d\":[{\"type\":\"histogram2d\",\"colorbar\":{\"outlinewidth\":0,\"ticks\":\"\"},\"colorscale\":[[0.0,\"#0d0887\"],[0.1111111111111111,\"#46039f\"],[0.2222222222222222,\"#7201a8\"],[0.3333333333333333,\"#9c179e\"],[0.4444444444444444,\"#bd3786\"],[0.5555555555555556,\"#d8576b\"],[0.6666666666666666,\"#ed7953\"],[0.7777777777777778,\"#fb9f3a\"],[0.8888888888888888,\"#fdca26\"],[1.0,\"#f0f921\"]]}],\"heatmap\":[{\"type\":\"heatmap\",\"colorbar\":{\"outlinewidth\":0,\"ticks\":\"\"},\"colorscale\":[[0.0,\"#0d0887\"],[0.1111111111111111,\"#46039f\"],[0.2222222222222222,\"#7201a8\"],[0.3333333333333333,\"#9c179e\"],[0.4444444444444444,\"#bd3786\"],[0.5555555555555556,\"#d8576b\"],[0.6666666666666666,\"#ed7953\"],[0.7777777777777778,\"#fb9f3a\"],[0.8888888888888888,\"#fdca26\"],[1.0,\"#f0f921\"]]}],\"heatmapgl\":[{\"type\":\"heatmapgl\",\"colorbar\":{\"outlinewidth\":0,\"ticks\":\"\"},\"colorscale\":[[0.0,\"#0d0887\"],[0.1111111111111111,\"#46039f\"],[0.2222222222222222,\"#7201a8\"],[0.3333333333333333,\"#9c179e\"],[0.4444444444444444,\"#bd3786\"],[0.5555555555555556,\"#d8576b\"],[0.6666666666666666,\"#ed7953\"],[0.7777777777777778,\"#fb9f3a\"],[0.8888888888888888,\"#fdca26\"],[1.0,\"#f0f921\"]]}],\"contourcarpet\":[{\"type\":\"contourcarpet\",\"colorbar\":{\"outlinewidth\":0,\"ticks\":\"\"}}],\"contour\":[{\"type\":\"contour\",\"colorbar\":{\"outlinewidth\":0,\"ticks\":\"\"},\"colorscale\":[[0.0,\"#0d0887\"],[0.1111111111111111,\"#46039f\"],[0.2222222222222222,\"#7201a8\"],[0.3333333333333333,\"#9c179e\"],[0.4444444444444444,\"#bd3786\"],[0.5555555555555556,\"#d8576b\"],[0.6666666666666666,\"#ed7953\"],[0.7777777777777778,\"#fb9f3a\"],[0.8888888888888888,\"#fdca26\"],[1.0,\"#f0f921\"]]}],\"surface\":[{\"type\":\"surface\",\"colorbar\":{\"outlinewidth\":0,\"ticks\":\"\"},\"colorscale\":[[0.0,\"#0d0887\"],[0.1111111111111111,\"#46039f\"],[0.2222222222222222,\"#7201a8\"],[0.3333333333333333,\"#9c179e\"],[0.4444444444444444,\"#bd3786\"],[0.5555555555555556,\"#d8576b\"],[0.6666666666666666,\"#ed7953\"],[0.7777777777777778,\"#fb9f3a\"],[0.8888888888888888,\"#fdca26\"],[1.0,\"#f0f921\"]]}],\"mesh3d\":[{\"type\":\"mesh3d\",\"colorbar\":{\"outlinewidth\":0,\"ticks\":\"\"}}],\"scatter\":[{\"fillpattern\":{\"fillmode\":\"overlay\",\"size\":10,\"solidity\":0.2},\"type\":\"scatter\"}],\"parcoords\":[{\"type\":\"parcoords\",\"line\":{\"colorbar\":{\"outlinewidth\":0,\"ticks\":\"\"}}}],\"scatterpolargl\":[{\"type\":\"scatterpolargl\",\"marker\":{\"colorbar\":{\"outlinewidth\":0,\"ticks\":\"\"}}}],\"bar\":[{\"error_x\":{\"color\":\"#2a3f5f\"},\"error_y\":{\"color\":\"#2a3f5f\"},\"marker\":{\"line\":{\"color\":\"#E5ECF6\",\"width\":0.5},\"pattern\":{\"fillmode\":\"overlay\",\"size\":10,\"solidity\":0.2}},\"type\":\"bar\"}],\"scattergeo\":[{\"type\":\"scattergeo\",\"marker\":{\"colorbar\":{\"outlinewidth\":0,\"ticks\":\"\"}}}],\"scatterpolar\":[{\"type\":\"scatterpolar\",\"marker\":{\"colorbar\":{\"outlinewidth\":0,\"ticks\":\"\"}}}],\"histogram\":[{\"marker\":{\"pattern\":{\"fillmode\":\"overlay\",\"size\":10,\"solidity\":0.2}},\"type\":\"histogram\"}],\"scattergl\":[{\"type\":\"scattergl\",\"marker\":{\"colorbar\":{\"outlinewidth\":0,\"ticks\":\"\"}}}],\"scatter3d\":[{\"type\":\"scatter3d\",\"line\":{\"colorbar\":{\"outlinewidth\":0,\"ticks\":\"\"}},\"marker\":{\"colorbar\":{\"outlinewidth\":0,\"ticks\":\"\"}}}],\"scattermapbox\":[{\"type\":\"scattermapbox\",\"marker\":{\"colorbar\":{\"outlinewidth\":0,\"ticks\":\"\"}}}],\"scatterternary\":[{\"type\":\"scatterternary\",\"marker\":{\"colorbar\":{\"outlinewidth\":0,\"ticks\":\"\"}}}],\"scattercarpet\":[{\"type\":\"scattercarpet\",\"marker\":{\"colorbar\":{\"outlinewidth\":0,\"ticks\":\"\"}}}],\"carpet\":[{\"aaxis\":{\"endlinecolor\":\"#2a3f5f\",\"gridcolor\":\"white\",\"linecolor\":\"white\",\"minorgridcolor\":\"white\",\"startlinecolor\":\"#2a3f5f\"},\"baxis\":{\"endlinecolor\":\"#2a3f5f\",\"gridcolor\":\"white\",\"linecolor\":\"white\",\"minorgridcolor\":\"white\",\"startlinecolor\":\"#2a3f5f\"},\"type\":\"carpet\"}],\"table\":[{\"cells\":{\"fill\":{\"color\":\"#EBF0F8\"},\"line\":{\"color\":\"white\"}},\"header\":{\"fill\":{\"color\":\"#C8D4E3\"},\"line\":{\"color\":\"white\"}},\"type\":\"table\"}],\"barpolar\":[{\"marker\":{\"line\":{\"color\":\"#E5ECF6\",\"width\":0.5},\"pattern\":{\"fillmode\":\"overlay\",\"size\":10,\"solidity\":0.2}},\"type\":\"barpolar\"}],\"pie\":[{\"automargin\":true,\"type\":\"pie\"}]},\"layout\":{\"autotypenumbers\":\"strict\",\"colorway\":[\"#636efa\",\"#EF553B\",\"#00cc96\",\"#ab63fa\",\"#FFA15A\",\"#19d3f3\",\"#FF6692\",\"#B6E880\",\"#FF97FF\",\"#FECB52\"],\"font\":{\"color\":\"#2a3f5f\"},\"hovermode\":\"closest\",\"hoverlabel\":{\"align\":\"left\"},\"paper_bgcolor\":\"white\",\"plot_bgcolor\":\"#E5ECF6\",\"polar\":{\"bgcolor\":\"#E5ECF6\",\"angularaxis\":{\"gridcolor\":\"white\",\"linecolor\":\"white\",\"ticks\":\"\"},\"radialaxis\":{\"gridcolor\":\"white\",\"linecolor\":\"white\",\"ticks\":\"\"}},\"ternary\":{\"bgcolor\":\"#E5ECF6\",\"aaxis\":{\"gridcolor\":\"white\",\"linecolor\":\"white\",\"ticks\":\"\"},\"baxis\":{\"gridcolor\":\"white\",\"linecolor\":\"white\",\"ticks\":\"\"},\"caxis\":{\"gridcolor\":\"white\",\"linecolor\":\"white\",\"ticks\":\"\"}},\"coloraxis\":{\"colorbar\":{\"outlinewidth\":0,\"ticks\":\"\"}},\"colorscale\":{\"sequential\":[[0.0,\"#0d0887\"],[0.1111111111111111,\"#46039f\"],[0.2222222222222222,\"#7201a8\"],[0.3333333333333333,\"#9c179e\"],[0.4444444444444444,\"#bd3786\"],[0.5555555555555556,\"#d8576b\"],[0.6666666666666666,\"#ed7953\"],[0.7777777777777778,\"#fb9f3a\"],[0.8888888888888888,\"#fdca26\"],[1.0,\"#f0f921\"]],\"sequentialminus\":[[0.0,\"#0d0887\"],[0.1111111111111111,\"#46039f\"],[0.2222222222222222,\"#7201a8\"],[0.3333333333333333,\"#9c179e\"],[0.4444444444444444,\"#bd3786\"],[0.5555555555555556,\"#d8576b\"],[0.6666666666666666,\"#ed7953\"],[0.7777777777777778,\"#fb9f3a\"],[0.8888888888888888,\"#fdca26\"],[1.0,\"#f0f921\"]],\"diverging\":[[0,\"#8e0152\"],[0.1,\"#c51b7d\"],[0.2,\"#de77ae\"],[0.3,\"#f1b6da\"],[0.4,\"#fde0ef\"],[0.5,\"#f7f7f7\"],[0.6,\"#e6f5d0\"],[0.7,\"#b8e186\"],[0.8,\"#7fbc41\"],[0.9,\"#4d9221\"],[1,\"#276419\"]]},\"xaxis\":{\"gridcolor\":\"white\",\"linecolor\":\"white\",\"ticks\":\"\",\"title\":{\"standoff\":15},\"zerolinecolor\":\"white\",\"automargin\":true,\"zerolinewidth\":2},\"yaxis\":{\"gridcolor\":\"white\",\"linecolor\":\"white\",\"ticks\":\"\",\"title\":{\"standoff\":15},\"zerolinecolor\":\"white\",\"automargin\":true,\"zerolinewidth\":2},\"scene\":{\"xaxis\":{\"backgroundcolor\":\"#E5ECF6\",\"gridcolor\":\"white\",\"linecolor\":\"white\",\"showbackground\":true,\"ticks\":\"\",\"zerolinecolor\":\"white\",\"gridwidth\":2},\"yaxis\":{\"backgroundcolor\":\"#E5ECF6\",\"gridcolor\":\"white\",\"linecolor\":\"white\",\"showbackground\":true,\"ticks\":\"\",\"zerolinecolor\":\"white\",\"gridwidth\":2},\"zaxis\":{\"backgroundcolor\":\"#E5ECF6\",\"gridcolor\":\"white\",\"linecolor\":\"white\",\"showbackground\":true,\"ticks\":\"\",\"zerolinecolor\":\"white\",\"gridwidth\":2}},\"shapedefaults\":{\"line\":{\"color\":\"#2a3f5f\"}},\"annotationdefaults\":{\"arrowcolor\":\"#2a3f5f\",\"arrowhead\":0,\"arrowwidth\":1},\"geo\":{\"bgcolor\":\"white\",\"landcolor\":\"#E5ECF6\",\"subunitcolor\":\"white\",\"showland\":true,\"showlakes\":true,\"lakecolor\":\"white\"},\"title\":{\"x\":0.05},\"mapbox\":{\"style\":\"light\"}}},\"title\":{\"text\":\"t-SNE Visualization of Word Embeddings\"},\"xaxis\":{\"title\":{\"text\":\"TSNE Component 1\"}},\"yaxis\":{\"title\":{\"text\":\"TSNE Component 2\"}},\"showlegend\":false},                        {\"responsive\": true}                    ).then(function(){\n",
              "                            \n",
              "var gd = document.getElementById('6142fc45-30b2-4d18-9547-4bcbe180103b');\n",
              "var x = new MutationObserver(function (mutations, observer) {{\n",
              "        var display = window.getComputedStyle(gd).display;\n",
              "        if (!display || display === 'none') {{\n",
              "            console.log([gd, 'removed!']);\n",
              "            Plotly.purge(gd);\n",
              "            observer.disconnect();\n",
              "        }}\n",
              "}});\n",
              "\n",
              "// Listen for the removal of the full notebook cells\n",
              "var notebookContainer = gd.closest('#notebook-container');\n",
              "if (notebookContainer) {{\n",
              "    x.observe(notebookContainer, {childList: true});\n",
              "}}\n",
              "\n",
              "// Listen for the clearing of the current output cell\n",
              "var outputEl = gd.closest('.output');\n",
              "if (outputEl) {{\n",
              "    x.observe(outputEl, {childList: true});\n",
              "}}\n",
              "\n",
              "                        })                };                            </script>        </div>\n",
              "</body>\n",
              "</html>"
            ]
          },
          "metadata": {}
        }
      ],
      "source": [
        "# import numpy as np\n",
        "# import pandas as pd\n",
        "# import torch\n",
        "# import sys\n",
        "\n",
        "# from sklearn.manifold import TSNE\n",
        "# import plotly.graph_objects as go\n",
        "\n",
        "# # Assuming the model is already defined and trained\n",
        "# model.eval()\n",
        "\n",
        "# # Get embeddings for the first 1000 words\n",
        "# words = list(word_to_index.keys())[:1000]\n",
        "# embeddings = model.embedding.weight.detach().cpu().numpy()[:1000]\n",
        "\n",
        "# # Create TSNE\n",
        "# tsne = TSNE(n_components=2, random_state=0)\n",
        "# tsne_results = tsne.fit_transform(embeddings)\n",
        "\n",
        "# # Create a DataFrame for easier plotting\n",
        "# df = pd.DataFrame({\n",
        "#     'x': tsne_results[:, 0],\n",
        "#     'y': tsne_results[:, 1],\n",
        "#     'word': words\n",
        "# })\n",
        "\n",
        "# # Create the plot\n",
        "# fig = go.Figure()\n",
        "\n",
        "# fig.add_trace(go.Scatter(\n",
        "#     x=df['x'],\n",
        "#     y=df['y'],\n",
        "#     mode='markers+text',\n",
        "#     text=df['word'],\n",
        "#     textposition=\"top center\",\n",
        "#     hoverinfo='text',\n",
        "#     marker=dict(size=5, color=df['x'], colorscale='Viridis', showscale=True)\n",
        "# ))\n",
        "\n",
        "# fig.update_layout(\n",
        "#     title='t-SNE visualization of word embeddings',\n",
        "#     xaxis_title='t-SNE dimension 1',\n",
        "#     yaxis_title='t-SNE dimension 2',\n",
        "#     width=1000,\n",
        "#     height=800\n",
        "# )\n",
        "\n",
        "# fig.show()"
      ]
    },
    {
      "cell_type": "markdown",
      "metadata": {
        "id": "OcctyCqXRn22"
      },
      "source": [
        "## Let's Experiment!"
      ]
    },
    {
      "cell_type": "markdown",
      "metadata": {
        "id": "khVfQDiqRyuW"
      },
      "source": [
        "Now it's your time to experiment.\n",
        "- Find a new training corpus to train our CBOW model from scratch (it can be books, tweets, etc).  This should change the embeddings. Analyse and report how this new training set changes the vectors themselves and the accuracy on the analogy test.\n",
        "- Test your embeddings on a different sub-section of the analogy dataset or another dataset. Analyse and report how these results compare with the original dataset."
      ]
    }
  ],
  "metadata": {
    "accelerator": "GPU",
    "colab": {
      "gpuType": "T4",
      "provenance": []
    },
    "kernelspec": {
      "display_name": "Python 3 (ipykernel)",
      "language": "python",
      "name": "python3"
    },
    "language_info": {
      "name": "python"
    }
  },
  "nbformat": 4,
  "nbformat_minor": 0
}